{
 "cells": [
  {
   "cell_type": "markdown",
   "metadata": {},
   "source": [
    "# Who wins the Big Game?"
   ]
  },
  {
   "cell_type": "code",
   "execution_count": 1,
   "metadata": {},
   "outputs": [],
   "source": [
    "import pandas as pd\n",
    "import numpy as np \n",
    "import matplotlib.pyplot as plt\n",
    "import seaborn as sns\n",
    "import warnings\n",
    "warnings.filterwarnings(\"ignore\")"
   ]
  },
  {
   "cell_type": "markdown",
   "metadata": {},
   "source": [
    "## Load the Dataset"
   ]
  },
  {
   "cell_type": "code",
   "execution_count": 2,
   "metadata": {
    "scrolled": false
   },
   "outputs": [
    {
     "data": {
      "text/html": [
       "<div>\n",
       "<style scoped>\n",
       "    .dataframe tbody tr th:only-of-type {\n",
       "        vertical-align: middle;\n",
       "    }\n",
       "\n",
       "    .dataframe tbody tr th {\n",
       "        vertical-align: top;\n",
       "    }\n",
       "\n",
       "    .dataframe thead th {\n",
       "        text-align: right;\n",
       "    }\n",
       "</style>\n",
       "<table border=\"1\" class=\"dataframe\">\n",
       "  <thead>\n",
       "    <tr style=\"text-align: right;\">\n",
       "      <th></th>\n",
       "      <th>Won_Championship</th>\n",
       "      <th>Previous_SB_Wins</th>\n",
       "      <th>Number_Of_Wins_This_Season</th>\n",
       "      <th>Number_Of_First_Round_Draft_Picks</th>\n",
       "      <th>Team_Value</th>\n",
       "      <th>Playing_Style</th>\n",
       "      <th>Average_Player_Age</th>\n",
       "      <th>Number_Of_Injured_Players</th>\n",
       "      <th>Coach_Experience_Level</th>\n",
       "    </tr>\n",
       "    <tr>\n",
       "      <th>ID</th>\n",
       "      <th></th>\n",
       "      <th></th>\n",
       "      <th></th>\n",
       "      <th></th>\n",
       "      <th></th>\n",
       "      <th></th>\n",
       "      <th></th>\n",
       "      <th></th>\n",
       "      <th></th>\n",
       "    </tr>\n",
       "  </thead>\n",
       "  <tbody>\n",
       "    <tr>\n",
       "      <th>6056</th>\n",
       "      <td>0</td>\n",
       "      <td>3</td>\n",
       "      <td>13</td>\n",
       "      <td>2</td>\n",
       "      <td>Less_Than_Four_Billion</td>\n",
       "      <td>Balanced</td>\n",
       "      <td>27</td>\n",
       "      <td>five</td>\n",
       "      <td>Intermediate</td>\n",
       "    </tr>\n",
       "    <tr>\n",
       "      <th>9702</th>\n",
       "      <td>0</td>\n",
       "      <td>2</td>\n",
       "      <td>14</td>\n",
       "      <td>2</td>\n",
       "      <td>Less_Than_Four_Billion</td>\n",
       "      <td>Aggressive_Offense</td>\n",
       "      <td>26</td>\n",
       "      <td>five</td>\n",
       "      <td>Intermediate</td>\n",
       "    </tr>\n",
       "    <tr>\n",
       "      <th>1745</th>\n",
       "      <td>1</td>\n",
       "      <td>2</td>\n",
       "      <td>13</td>\n",
       "      <td>1</td>\n",
       "      <td>Less_Than_Four_Billion</td>\n",
       "      <td>Aggressive_Defense</td>\n",
       "      <td>27</td>\n",
       "      <td>four</td>\n",
       "      <td>Intermediate</td>\n",
       "    </tr>\n",
       "    <tr>\n",
       "      <th>4757</th>\n",
       "      <td>0</td>\n",
       "      <td>2</td>\n",
       "      <td>12</td>\n",
       "      <td>2</td>\n",
       "      <td>Above_Four_Billion</td>\n",
       "      <td>Balanced</td>\n",
       "      <td>27</td>\n",
       "      <td>six</td>\n",
       "      <td>Intermediate</td>\n",
       "    </tr>\n",
       "    <tr>\n",
       "      <th>7242</th>\n",
       "      <td>0</td>\n",
       "      <td>1</td>\n",
       "      <td>15</td>\n",
       "      <td>2</td>\n",
       "      <td>Less_Than_Four_Billion</td>\n",
       "      <td>Balanced</td>\n",
       "      <td>26</td>\n",
       "      <td>five</td>\n",
       "      <td>Intermediate</td>\n",
       "    </tr>\n",
       "    <tr>\n",
       "      <th>...</th>\n",
       "      <td>...</td>\n",
       "      <td>...</td>\n",
       "      <td>...</td>\n",
       "      <td>...</td>\n",
       "      <td>...</td>\n",
       "      <td>...</td>\n",
       "      <td>...</td>\n",
       "      <td>...</td>\n",
       "      <td>...</td>\n",
       "    </tr>\n",
       "    <tr>\n",
       "      <th>5568</th>\n",
       "      <td>0</td>\n",
       "      <td>1</td>\n",
       "      <td>14</td>\n",
       "      <td>2</td>\n",
       "      <td>Less_Than_Four_Billion</td>\n",
       "      <td>Aggressive_Defense</td>\n",
       "      <td>26</td>\n",
       "      <td>three</td>\n",
       "      <td>Intermediate</td>\n",
       "    </tr>\n",
       "    <tr>\n",
       "      <th>8301</th>\n",
       "      <td>1</td>\n",
       "      <td>2</td>\n",
       "      <td>14</td>\n",
       "      <td>3</td>\n",
       "      <td>Less_Than_Four_Billion</td>\n",
       "      <td>Aggressive_Defense</td>\n",
       "      <td>27</td>\n",
       "      <td>seven</td>\n",
       "      <td>Intermediate</td>\n",
       "    </tr>\n",
       "    <tr>\n",
       "      <th>2532</th>\n",
       "      <td>1</td>\n",
       "      <td>1</td>\n",
       "      <td>14</td>\n",
       "      <td>2</td>\n",
       "      <td>Less_Than_Four_Billion</td>\n",
       "      <td>Aggressive_Defense</td>\n",
       "      <td>27</td>\n",
       "      <td>five</td>\n",
       "      <td>Intermediate</td>\n",
       "    </tr>\n",
       "    <tr>\n",
       "      <th>6345</th>\n",
       "      <td>0</td>\n",
       "      <td>1</td>\n",
       "      <td>14</td>\n",
       "      <td>2</td>\n",
       "      <td>Above_Four_Billion</td>\n",
       "      <td>Aggressive_Defense</td>\n",
       "      <td>26</td>\n",
       "      <td>six</td>\n",
       "      <td>Intermediate</td>\n",
       "    </tr>\n",
       "    <tr>\n",
       "      <th>7238</th>\n",
       "      <td>0</td>\n",
       "      <td>1</td>\n",
       "      <td>12</td>\n",
       "      <td>2</td>\n",
       "      <td>Less_Than_Four_Billion</td>\n",
       "      <td>Balanced</td>\n",
       "      <td>27</td>\n",
       "      <td>eight</td>\n",
       "      <td>Intermediate</td>\n",
       "    </tr>\n",
       "  </tbody>\n",
       "</table>\n",
       "<p>6500 rows × 9 columns</p>\n",
       "</div>"
      ],
      "text/plain": [
       "      Won_Championship  Previous_SB_Wins  Number_Of_Wins_This_Season  \\\n",
       "ID                                                                     \n",
       "6056                 0                 3                          13   \n",
       "9702                 0                 2                          14   \n",
       "1745                 1                 2                          13   \n",
       "4757                 0                 2                          12   \n",
       "7242                 0                 1                          15   \n",
       "...                ...               ...                         ...   \n",
       "5568                 0                 1                          14   \n",
       "8301                 1                 2                          14   \n",
       "2532                 1                 1                          14   \n",
       "6345                 0                 1                          14   \n",
       "7238                 0                 1                          12   \n",
       "\n",
       "      Number_Of_First_Round_Draft_Picks              Team_Value  \\\n",
       "ID                                                                \n",
       "6056                                  2  Less_Than_Four_Billion   \n",
       "9702                                  2  Less_Than_Four_Billion   \n",
       "1745                                  1  Less_Than_Four_Billion   \n",
       "4757                                  2      Above_Four_Billion   \n",
       "7242                                  2  Less_Than_Four_Billion   \n",
       "...                                 ...                     ...   \n",
       "5568                                  2  Less_Than_Four_Billion   \n",
       "8301                                  3  Less_Than_Four_Billion   \n",
       "2532                                  2  Less_Than_Four_Billion   \n",
       "6345                                  2      Above_Four_Billion   \n",
       "7238                                  2  Less_Than_Four_Billion   \n",
       "\n",
       "           Playing_Style  Average_Player_Age Number_Of_Injured_Players  \\\n",
       "ID                                                                       \n",
       "6056            Balanced                  27                      five   \n",
       "9702  Aggressive_Offense                  26                      five   \n",
       "1745  Aggressive_Defense                  27                      four   \n",
       "4757            Balanced                  27                       six   \n",
       "7242            Balanced                  26                      five   \n",
       "...                  ...                 ...                       ...   \n",
       "5568  Aggressive_Defense                  26                     three   \n",
       "8301  Aggressive_Defense                  27                     seven   \n",
       "2532  Aggressive_Defense                  27                      five   \n",
       "6345  Aggressive_Defense                  26                       six   \n",
       "7238            Balanced                  27                     eight   \n",
       "\n",
       "     Coach_Experience_Level  \n",
       "ID                           \n",
       "6056           Intermediate  \n",
       "9702           Intermediate  \n",
       "1745           Intermediate  \n",
       "4757           Intermediate  \n",
       "7242           Intermediate  \n",
       "...                     ...  \n",
       "5568           Intermediate  \n",
       "8301           Intermediate  \n",
       "2532           Intermediate  \n",
       "6345           Intermediate  \n",
       "7238           Intermediate  \n",
       "\n",
       "[6500 rows x 9 columns]"
      ]
     },
     "execution_count": 2,
     "metadata": {},
     "output_type": "execute_result"
    }
   ],
   "source": [
    "train_raw=pd.read_csv('Dataset/train.csv',index_col='ID')\n",
    "X_test=pd.read_csv('Dataset/test.csv',index_col='ID')\n",
    "test_raw=pd.read_csv('Dataset/test.csv')\n",
    "train_raw"
   ]
  },
  {
   "cell_type": "markdown",
   "metadata": {},
   "source": [
    "### Exploratory Data Analysis"
   ]
  },
  {
   "cell_type": "code",
   "execution_count": 3,
   "metadata": {},
   "outputs": [
    {
     "data": {
      "text/html": [
       "<div>\n",
       "<style scoped>\n",
       "    .dataframe tbody tr th:only-of-type {\n",
       "        vertical-align: middle;\n",
       "    }\n",
       "\n",
       "    .dataframe tbody tr th {\n",
       "        vertical-align: top;\n",
       "    }\n",
       "\n",
       "    .dataframe thead th {\n",
       "        text-align: right;\n",
       "    }\n",
       "</style>\n",
       "<table border=\"1\" class=\"dataframe\">\n",
       "  <thead>\n",
       "    <tr style=\"text-align: right;\">\n",
       "      <th></th>\n",
       "      <th>Won_Championship</th>\n",
       "      <th>Previous_SB_Wins</th>\n",
       "      <th>Number_Of_Wins_This_Season</th>\n",
       "      <th>Number_Of_First_Round_Draft_Picks</th>\n",
       "      <th>Average_Player_Age</th>\n",
       "    </tr>\n",
       "  </thead>\n",
       "  <tbody>\n",
       "    <tr>\n",
       "      <th>count</th>\n",
       "      <td>6500.000000</td>\n",
       "      <td>6500.000000</td>\n",
       "      <td>6500.000000</td>\n",
       "      <td>6500.000000</td>\n",
       "      <td>6500.000000</td>\n",
       "    </tr>\n",
       "    <tr>\n",
       "      <th>mean</th>\n",
       "      <td>0.500769</td>\n",
       "      <td>1.829077</td>\n",
       "      <td>13.926308</td>\n",
       "      <td>2.154615</td>\n",
       "      <td>26.346615</td>\n",
       "    </tr>\n",
       "    <tr>\n",
       "      <th>std</th>\n",
       "      <td>0.500038</td>\n",
       "      <td>0.582494</td>\n",
       "      <td>1.135781</td>\n",
       "      <td>0.598970</td>\n",
       "      <td>0.573036</td>\n",
       "    </tr>\n",
       "    <tr>\n",
       "      <th>min</th>\n",
       "      <td>0.000000</td>\n",
       "      <td>0.000000</td>\n",
       "      <td>10.000000</td>\n",
       "      <td>0.000000</td>\n",
       "      <td>24.000000</td>\n",
       "    </tr>\n",
       "    <tr>\n",
       "      <th>25%</th>\n",
       "      <td>0.000000</td>\n",
       "      <td>1.000000</td>\n",
       "      <td>13.000000</td>\n",
       "      <td>2.000000</td>\n",
       "      <td>26.000000</td>\n",
       "    </tr>\n",
       "    <tr>\n",
       "      <th>50%</th>\n",
       "      <td>1.000000</td>\n",
       "      <td>2.000000</td>\n",
       "      <td>14.000000</td>\n",
       "      <td>2.000000</td>\n",
       "      <td>26.000000</td>\n",
       "    </tr>\n",
       "    <tr>\n",
       "      <th>75%</th>\n",
       "      <td>1.000000</td>\n",
       "      <td>2.000000</td>\n",
       "      <td>15.000000</td>\n",
       "      <td>3.000000</td>\n",
       "      <td>27.000000</td>\n",
       "    </tr>\n",
       "    <tr>\n",
       "      <th>max</th>\n",
       "      <td>1.000000</td>\n",
       "      <td>4.000000</td>\n",
       "      <td>18.000000</td>\n",
       "      <td>4.000000</td>\n",
       "      <td>28.000000</td>\n",
       "    </tr>\n",
       "  </tbody>\n",
       "</table>\n",
       "</div>"
      ],
      "text/plain": [
       "       Won_Championship  Previous_SB_Wins  Number_Of_Wins_This_Season  \\\n",
       "count       6500.000000       6500.000000                 6500.000000   \n",
       "mean           0.500769          1.829077                   13.926308   \n",
       "std            0.500038          0.582494                    1.135781   \n",
       "min            0.000000          0.000000                   10.000000   \n",
       "25%            0.000000          1.000000                   13.000000   \n",
       "50%            1.000000          2.000000                   14.000000   \n",
       "75%            1.000000          2.000000                   15.000000   \n",
       "max            1.000000          4.000000                   18.000000   \n",
       "\n",
       "       Number_Of_First_Round_Draft_Picks  Average_Player_Age  \n",
       "count                        6500.000000         6500.000000  \n",
       "mean                            2.154615           26.346615  \n",
       "std                             0.598970            0.573036  \n",
       "min                             0.000000           24.000000  \n",
       "25%                             2.000000           26.000000  \n",
       "50%                             2.000000           26.000000  \n",
       "75%                             3.000000           27.000000  \n",
       "max                             4.000000           28.000000  "
      ]
     },
     "execution_count": 3,
     "metadata": {},
     "output_type": "execute_result"
    }
   ],
   "source": [
    "train_raw.describe()"
   ]
  },
  {
   "cell_type": "code",
   "execution_count": 4,
   "metadata": {},
   "outputs": [
    {
     "name": "stdout",
     "output_type": "stream",
     "text": [
      "(6500, 9)\n",
      "(3500, 8)\n"
     ]
    }
   ],
   "source": [
    "print(train_raw.shape)\n",
    "print(X_test.shape)"
   ]
  },
  {
   "cell_type": "code",
   "execution_count": 5,
   "metadata": {},
   "outputs": [
    {
     "name": "stdout",
     "output_type": "stream",
     "text": [
      "<class 'pandas.core.frame.DataFrame'>\n",
      "Int64Index: 6500 entries, 6056 to 7238\n",
      "Data columns (total 9 columns):\n",
      " #   Column                             Non-Null Count  Dtype \n",
      "---  ------                             --------------  ----- \n",
      " 0   Won_Championship                   6500 non-null   int64 \n",
      " 1   Previous_SB_Wins                   6500 non-null   int64 \n",
      " 2   Number_Of_Wins_This_Season         6500 non-null   int64 \n",
      " 3   Number_Of_First_Round_Draft_Picks  6500 non-null   int64 \n",
      " 4   Team_Value                         6500 non-null   object\n",
      " 5   Playing_Style                      6500 non-null   object\n",
      " 6   Average_Player_Age                 6500 non-null   int64 \n",
      " 7   Number_Of_Injured_Players          6500 non-null   object\n",
      " 8   Coach_Experience_Level             6500 non-null   object\n",
      "dtypes: int64(5), object(4)\n",
      "memory usage: 507.8+ KB\n"
     ]
    }
   ],
   "source": [
    "train_raw.info()"
   ]
  },
  {
   "cell_type": "code",
   "execution_count": 6,
   "metadata": {},
   "outputs": [
    {
     "name": "stdout",
     "output_type": "stream",
     "text": [
      "<class 'pandas.core.frame.DataFrame'>\n",
      "Int64Index: 3500 entries, 1 to 10000\n",
      "Data columns (total 8 columns):\n",
      " #   Column                             Non-Null Count  Dtype \n",
      "---  ------                             --------------  ----- \n",
      " 0   Previous_SB_Wins                   3500 non-null   int64 \n",
      " 1   Number_Of_Wins_This_Season         3500 non-null   int64 \n",
      " 2   Number_Of_First_Round_Draft_Picks  3500 non-null   int64 \n",
      " 3   Team_Value                         3500 non-null   object\n",
      " 4   Playing_Style                      3500 non-null   object\n",
      " 5   Average_Player_Age                 3500 non-null   int64 \n",
      " 6   Number_Of_Injured_Players          3500 non-null   object\n",
      " 7   Coach_Experience_Level             3500 non-null   object\n",
      "dtypes: int64(4), object(4)\n",
      "memory usage: 246.1+ KB\n"
     ]
    }
   ],
   "source": [
    "X_test.info()"
   ]
  },
  {
   "cell_type": "markdown",
   "metadata": {},
   "source": [
    "#### Understanding the basic Feature set. \n",
    "    -- Numerical Features :Previous_SB_Wins,Number_Of_Wins_This_Season,Number_Of_First_Round_Draft_Picks,Average_Player_Age.\n",
    "    -- Categorical Features :Team_Value,Playing_Style,Number_Of_Injured_Players,Coach_Experience_Level."
   ]
  },
  {
   "cell_type": "markdown",
   "metadata": {},
   "source": [
    "### Check the distribution of output\n"
   ]
  },
  {
   "cell_type": "code",
   "execution_count": 7,
   "metadata": {},
   "outputs": [
    {
     "name": "stdout",
     "output_type": "stream",
     "text": [
      "1    3255\n",
      "0    3245\n",
      "Name: Won_Championship, dtype: int64\n"
     ]
    },
    {
     "data": {
      "image/png": "[encoded data removed]",
      "text/plain": [
       "<Figure size 720x720 with 1 Axes>"
      ]
     },
     "metadata": {
      "needs_background": "light"
     },
     "output_type": "display_data"
    }
   ],
   "source": [
    "target_count=train_raw['Won_Championship'].value_counts()\n",
    "print(target_count)\n",
    "plt.figure(figsize=(10,10))\n",
    "sns.barplot(target_count.index,target_count.values)\n",
    "plt.xlabel('Won_Championship',fontsize=10)\n",
    "plt.ylabel('counts',fontsize=10)\n",
    "plt.show()"
   ]
  },
  {
   "cell_type": "markdown",
   "metadata": {},
   "source": [
    "### Observation\n",
    "    -- It is a balanced Data set.  "
   ]
  },
  {
   "cell_type": "markdown",
   "metadata": {},
   "source": [
    "### Analysis on --  Previous_SB_Wins"
   ]
  },
  {
   "cell_type": "code",
   "execution_count": 8,
   "metadata": {
    "scrolled": false
   },
   "outputs": [
    {
     "name": "stdout",
     "output_type": "stream",
     "text": [
      "count    6500.000000\n",
      "mean        1.829077\n",
      "std         0.582494\n",
      "min         0.000000\n",
      "25%         1.000000\n",
      "50%         2.000000\n",
      "75%         2.000000\n",
      "max         4.000000\n",
      "Name: Previous_SB_Wins, dtype: float64\n"
     ]
    },
    {
     "data": {
      "image/png": "[encoded data removed]",
      "text/plain": [
       "<Figure size 826.5x720 with 1 Axes>"
      ]
     },
     "metadata": {
      "needs_background": "light"
     },
     "output_type": "display_data"
    }
   ],
   "source": [
    "print(train_raw['Previous_SB_Wins'].describe())\n",
    "sns.FacetGrid(train_raw, hue=\"Won_Championship\", size=10) \\\n",
    "   .map(sns.distplot, \"Previous_SB_Wins\") \\\n",
    "   .add_legend();\n",
    "plt.show();"
   ]
  },
  {
   "cell_type": "markdown",
   "metadata": {},
   "source": [
    "### Analysis on --  Number_Of_Wins_This_Season"
   ]
  },
  {
   "cell_type": "code",
   "execution_count": 9,
   "metadata": {},
   "outputs": [
    {
     "name": "stdout",
     "output_type": "stream",
     "text": [
      "count    6500.000000\n",
      "mean       13.926308\n",
      "std         1.135781\n",
      "min        10.000000\n",
      "25%        13.000000\n",
      "50%        14.000000\n",
      "75%        15.000000\n",
      "max        18.000000\n",
      "Name: Number_Of_Wins_This_Season, dtype: float64\n"
     ]
    },
    {
     "data": {
      "image/png": "[encoded data removed]",
      "text/plain": [
       "<Figure size 826.5x720 with 1 Axes>"
      ]
     },
     "metadata": {
      "needs_background": "light"
     },
     "output_type": "display_data"
    }
   ],
   "source": [
    "print(train_raw['Number_Of_Wins_This_Season'].describe())\n",
    "sns.FacetGrid(train_raw, hue=\"Won_Championship\", size=10) \\\n",
    "   .map(sns.distplot, \"Number_Of_Wins_This_Season\") \\\n",
    "   .add_legend();\n",
    "plt.show();"
   ]
  },
  {
   "cell_type": "markdown",
   "metadata": {},
   "source": [
    "## Analysis on Number_Of_First_Round_Draft_Picks"
   ]
  },
  {
   "cell_type": "code",
   "execution_count": 10,
   "metadata": {},
   "outputs": [
    {
     "name": "stdout",
     "output_type": "stream",
     "text": [
      "count    6500.000000\n",
      "mean        2.154615\n",
      "std         0.598970\n",
      "min         0.000000\n",
      "25%         2.000000\n",
      "50%         2.000000\n",
      "75%         3.000000\n",
      "max         4.000000\n",
      "Name: Number_Of_First_Round_Draft_Picks, dtype: float64\n"
     ]
    },
    {
     "data": {
      "image/png": "[encoded data removed]",
      "text/plain": [
       "<Figure size 826.5x720 with 1 Axes>"
      ]
     },
     "metadata": {
      "needs_background": "light"
     },
     "output_type": "display_data"
    }
   ],
   "source": [
    "print(train_raw['Number_Of_First_Round_Draft_Picks'].describe())\n",
    "sns.FacetGrid(train_raw, hue=\"Won_Championship\", size=10) \\\n",
    "   .map(sns.distplot, \"Number_Of_First_Round_Draft_Picks\") \\\n",
    "   .add_legend();\n",
    "plt.show();"
   ]
  },
  {
   "cell_type": "markdown",
   "metadata": {},
   "source": [
    "## Analysis on Average_Player_Age"
   ]
  },
  {
   "cell_type": "code",
   "execution_count": 11,
   "metadata": {},
   "outputs": [
    {
     "name": "stdout",
     "output_type": "stream",
     "text": [
      "count    6500.000000\n",
      "mean       26.346615\n",
      "std         0.573036\n",
      "min        24.000000\n",
      "25%        26.000000\n",
      "50%        26.000000\n",
      "75%        27.000000\n",
      "max        28.000000\n",
      "Name: Average_Player_Age, dtype: float64\n"
     ]
    },
    {
     "data": {
      "image/png": "[encoded data removed]",
      "text/plain": [
       "<Figure size 826.5x720 with 1 Axes>"
      ]
     },
     "metadata": {
      "needs_background": "light"
     },
     "output_type": "display_data"
    }
   ],
   "source": [
    "print(train_raw['Average_Player_Age'].describe())\n",
    "sns.FacetGrid(train_raw, hue=\"Won_Championship\", size=10) \\\n",
    "   .map(sns.distplot, \"Average_Player_Age\") \\\n",
    "   .add_legend();\n",
    "plt.show();"
   ]
  },
  {
   "cell_type": "markdown",
   "metadata": {},
   "source": [
    "## Analysis on Team_Value"
   ]
  },
  {
   "cell_type": "code",
   "execution_count": 12,
   "metadata": {},
   "outputs": [
    {
     "name": "stdout",
     "output_type": "stream",
     "text": [
      "Less_Than_Four_Billion     5130\n",
      "Above_Four_Billion          717\n",
      "Less_Than_Three_Billion     653\n",
      "Name: Team_Value, dtype: int64\n"
     ]
    },
    {
     "data": {
      "image/png": "[encoded data removed]",
      "text/plain": [
       "<Figure size 720x720 with 1 Axes>"
      ]
     },
     "metadata": {
      "needs_background": "light"
     },
     "output_type": "display_data"
    }
   ],
   "source": [
    "target_count=train_raw['Team_Value'].value_counts()\n",
    "print(target_count)\n",
    "plt.figure(figsize=(10,10))\n",
    "sns.barplot(target_count.index,target_count.values)\n",
    "plt.xlabel('Team_Value',fontsize=10)\n",
    "plt.ylabel('counts',fontsize=10)\n",
    "plt.show()"
   ]
  },
  {
   "cell_type": "code",
   "execution_count": 13,
   "metadata": {},
   "outputs": [
    {
     "data": {
      "text/html": [
       "<div>\n",
       "<style scoped>\n",
       "    .dataframe tbody tr th:only-of-type {\n",
       "        vertical-align: middle;\n",
       "    }\n",
       "\n",
       "    .dataframe tbody tr th {\n",
       "        vertical-align: top;\n",
       "    }\n",
       "\n",
       "    .dataframe thead th {\n",
       "        text-align: right;\n",
       "    }\n",
       "</style>\n",
       "<table border=\"1\" class=\"dataframe\">\n",
       "  <thead>\n",
       "    <tr style=\"text-align: right;\">\n",
       "      <th>Won_Championship</th>\n",
       "      <th>0</th>\n",
       "      <th>1</th>\n",
       "    </tr>\n",
       "    <tr>\n",
       "      <th>Team_Value</th>\n",
       "      <th></th>\n",
       "      <th></th>\n",
       "    </tr>\n",
       "  </thead>\n",
       "  <tbody>\n",
       "    <tr>\n",
       "      <th>Above_Four_Billion</th>\n",
       "      <td>369</td>\n",
       "      <td>348</td>\n",
       "    </tr>\n",
       "    <tr>\n",
       "      <th>Less_Than_Four_Billion</th>\n",
       "      <td>2545</td>\n",
       "      <td>2585</td>\n",
       "    </tr>\n",
       "    <tr>\n",
       "      <th>Less_Than_Three_Billion</th>\n",
       "      <td>331</td>\n",
       "      <td>322</td>\n",
       "    </tr>\n",
       "  </tbody>\n",
       "</table>\n",
       "</div>"
      ],
      "text/plain": [
       "Won_Championship            0     1\n",
       "Team_Value                         \n",
       "Above_Four_Billion        369   348\n",
       "Less_Than_Four_Billion   2545  2585\n",
       "Less_Than_Three_Billion   331   322"
      ]
     },
     "execution_count": 13,
     "metadata": {},
     "output_type": "execute_result"
    }
   ],
   "source": [
    "test=pd.crosstab(train_raw['Team_Value'], train_raw['Won_Championship'])\n",
    "test"
   ]
  },
  {
   "cell_type": "code",
   "execution_count": 14,
   "metadata": {},
   "outputs": [
    {
     "data": {
      "image/png": "[encoded data removed]",
      "text/plain": [
       "<Figure size 720x720 with 1 Axes>"
      ]
     },
     "metadata": {
      "needs_background": "light"
     },
     "output_type": "display_data"
    }
   ],
   "source": [
    "plt.figure(figsize=(10,10))\n",
    "sns.countplot(data=train_raw,x='Team_Value',hue='Won_Championship')\n",
    "plt.xlabel('Team_Value',fontsize=10)\n",
    "plt.ylabel('counts',fontsize=10)\n",
    "plt.show()"
   ]
  },
  {
   "cell_type": "markdown",
   "metadata": {},
   "source": [
    "## Analysis on Playing_Style"
   ]
  },
  {
   "cell_type": "code",
   "execution_count": 15,
   "metadata": {},
   "outputs": [
    {
     "name": "stdout",
     "output_type": "stream",
     "text": [
      "Aggressive_Defense    3204\n",
      "Balanced              2908\n",
      "Aggressive_Offense     223\n",
      "Relaxed                165\n",
      "Name: Playing_Style, dtype: int64\n"
     ]
    },
    {
     "data": {
      "image/png": "[encoded data removed]",
      "text/plain": [
       "<Figure size 720x720 with 1 Axes>"
      ]
     },
     "metadata": {
      "needs_background": "light"
     },
     "output_type": "display_data"
    }
   ],
   "source": [
    "target_count=train_raw['Playing_Style'].value_counts()\n",
    "print(target_count)\n",
    "plt.figure(figsize=(10,10))\n",
    "sns.barplot(target_count.index,target_count.values)\n",
    "plt.xlabel('Playing_Style',fontsize=10)\n",
    "plt.ylabel('counts',fontsize=10)\n",
    "plt.show()"
   ]
  },
  {
   "cell_type": "code",
   "execution_count": 16,
   "metadata": {},
   "outputs": [
    {
     "data": {
      "text/html": [
       "<div>\n",
       "<style scoped>\n",
       "    .dataframe tbody tr th:only-of-type {\n",
       "        vertical-align: middle;\n",
       "    }\n",
       "\n",
       "    .dataframe tbody tr th {\n",
       "        vertical-align: top;\n",
       "    }\n",
       "\n",
       "    .dataframe thead th {\n",
       "        text-align: right;\n",
       "    }\n",
       "</style>\n",
       "<table border=\"1\" class=\"dataframe\">\n",
       "  <thead>\n",
       "    <tr style=\"text-align: right;\">\n",
       "      <th>Won_Championship</th>\n",
       "      <th>0</th>\n",
       "      <th>1</th>\n",
       "    </tr>\n",
       "    <tr>\n",
       "      <th>Playing_Style</th>\n",
       "      <th></th>\n",
       "      <th></th>\n",
       "    </tr>\n",
       "  </thead>\n",
       "  <tbody>\n",
       "    <tr>\n",
       "      <th>Aggressive_Defense</th>\n",
       "      <td>1602</td>\n",
       "      <td>1602</td>\n",
       "    </tr>\n",
       "    <tr>\n",
       "      <th>Aggressive_Offense</th>\n",
       "      <td>117</td>\n",
       "      <td>106</td>\n",
       "    </tr>\n",
       "    <tr>\n",
       "      <th>Balanced</th>\n",
       "      <td>1444</td>\n",
       "      <td>1464</td>\n",
       "    </tr>\n",
       "    <tr>\n",
       "      <th>Relaxed</th>\n",
       "      <td>82</td>\n",
       "      <td>83</td>\n",
       "    </tr>\n",
       "  </tbody>\n",
       "</table>\n",
       "</div>"
      ],
      "text/plain": [
       "Won_Championship       0     1\n",
       "Playing_Style                 \n",
       "Aggressive_Defense  1602  1602\n",
       "Aggressive_Offense   117   106\n",
       "Balanced            1444  1464\n",
       "Relaxed               82    83"
      ]
     },
     "execution_count": 16,
     "metadata": {},
     "output_type": "execute_result"
    }
   ],
   "source": [
    "test=pd.crosstab(train_raw['Playing_Style'], train_raw['Won_Championship'])\n",
    "test"
   ]
  },
  {
   "cell_type": "code",
   "execution_count": 17,
   "metadata": {},
   "outputs": [
    {
     "data": {
      "image/png": "[encoded data removed]",
      "text/plain": [
       "<Figure size 720x720 with 1 Axes>"
      ]
     },
     "metadata": {
      "needs_background": "light"
     },
     "output_type": "display_data"
    }
   ],
   "source": [
    "plt.figure(figsize=(10,10))\n",
    "sns.countplot(data=train_raw,x='Playing_Style',hue='Won_Championship')\n",
    "plt.xlabel('Playing_Style',fontsize=10)\n",
    "plt.ylabel('counts',fontsize=10)\n",
    "plt.show()"
   ]
  },
  {
   "cell_type": "markdown",
   "metadata": {},
   "source": [
    "## Analysis on Number_Of_Injured_Players"
   ]
  },
  {
   "cell_type": "code",
   "execution_count": 18,
   "metadata": {},
   "outputs": [
    {
     "name": "stdout",
     "output_type": "stream",
     "text": [
      "five     1894\n",
      "six      1799\n",
      "four     1069\n",
      "seven     972\n",
      "three     343\n",
      "eight     289\n",
      "two        78\n",
      "nine       44\n",
      "one        10\n",
      "ten         2\n",
      "Name: Number_Of_Injured_Players, dtype: int64\n"
     ]
    },
    {
     "data": {
      "image/png": "[encoded data removed]",
      "text/plain": [
       "<Figure size 720x720 with 1 Axes>"
      ]
     },
     "metadata": {
      "needs_background": "light"
     },
     "output_type": "display_data"
    }
   ],
   "source": [
    "target_count=train_raw['Number_Of_Injured_Players'].value_counts()\n",
    "print(target_count)\n",
    "plt.figure(figsize=(10,10))\n",
    "sns.barplot(target_count.index,target_count.values)\n",
    "plt.xlabel('Playing_Style',fontsize=10)\n",
    "plt.ylabel('counts',fontsize=10)\n",
    "plt.show()"
   ]
  },
  {
   "cell_type": "code",
   "execution_count": 19,
   "metadata": {},
   "outputs": [
    {
     "data": {
      "text/html": [
       "<div>\n",
       "<style scoped>\n",
       "    .dataframe tbody tr th:only-of-type {\n",
       "        vertical-align: middle;\n",
       "    }\n",
       "\n",
       "    .dataframe tbody tr th {\n",
       "        vertical-align: top;\n",
       "    }\n",
       "\n",
       "    .dataframe thead th {\n",
       "        text-align: right;\n",
       "    }\n",
       "</style>\n",
       "<table border=\"1\" class=\"dataframe\">\n",
       "  <thead>\n",
       "    <tr style=\"text-align: right;\">\n",
       "      <th>Won_Championship</th>\n",
       "      <th>0</th>\n",
       "      <th>1</th>\n",
       "    </tr>\n",
       "    <tr>\n",
       "      <th>Number_Of_Injured_Players</th>\n",
       "      <th></th>\n",
       "      <th></th>\n",
       "    </tr>\n",
       "  </thead>\n",
       "  <tbody>\n",
       "    <tr>\n",
       "      <th>eight</th>\n",
       "      <td>176</td>\n",
       "      <td>113</td>\n",
       "    </tr>\n",
       "    <tr>\n",
       "      <th>five</th>\n",
       "      <td>839</td>\n",
       "      <td>1055</td>\n",
       "    </tr>\n",
       "    <tr>\n",
       "      <th>four</th>\n",
       "      <td>580</td>\n",
       "      <td>489</td>\n",
       "    </tr>\n",
       "    <tr>\n",
       "      <th>nine</th>\n",
       "      <td>38</td>\n",
       "      <td>6</td>\n",
       "    </tr>\n",
       "    <tr>\n",
       "      <th>one</th>\n",
       "      <td>8</td>\n",
       "      <td>2</td>\n",
       "    </tr>\n",
       "    <tr>\n",
       "      <th>seven</th>\n",
       "      <td>498</td>\n",
       "      <td>474</td>\n",
       "    </tr>\n",
       "    <tr>\n",
       "      <th>six</th>\n",
       "      <td>833</td>\n",
       "      <td>966</td>\n",
       "    </tr>\n",
       "    <tr>\n",
       "      <th>ten</th>\n",
       "      <td>1</td>\n",
       "      <td>1</td>\n",
       "    </tr>\n",
       "    <tr>\n",
       "      <th>three</th>\n",
       "      <td>214</td>\n",
       "      <td>129</td>\n",
       "    </tr>\n",
       "    <tr>\n",
       "      <th>two</th>\n",
       "      <td>58</td>\n",
       "      <td>20</td>\n",
       "    </tr>\n",
       "  </tbody>\n",
       "</table>\n",
       "</div>"
      ],
      "text/plain": [
       "Won_Championship             0     1\n",
       "Number_Of_Injured_Players           \n",
       "eight                      176   113\n",
       "five                       839  1055\n",
       "four                       580   489\n",
       "nine                        38     6\n",
       "one                          8     2\n",
       "seven                      498   474\n",
       "six                        833   966\n",
       "ten                          1     1\n",
       "three                      214   129\n",
       "two                         58    20"
      ]
     },
     "execution_count": 19,
     "metadata": {},
     "output_type": "execute_result"
    }
   ],
   "source": [
    "test=pd.crosstab(train_raw['Number_Of_Injured_Players'], train_raw['Won_Championship'])\n",
    "test"
   ]
  },
  {
   "cell_type": "code",
   "execution_count": 20,
   "metadata": {},
   "outputs": [
    {
     "data": {
      "image/png": "[encoded data removed]",
      "text/plain": [
       "<Figure size 720x720 with 1 Axes>"
      ]
     },
     "metadata": {
      "needs_background": "light"
     },
     "output_type": "display_data"
    }
   ],
   "source": [
    "plt.figure(figsize=(10,10))\n",
    "sns.countplot(data=train_raw,x='Number_Of_Injured_Players',hue='Won_Championship')\n",
    "plt.xlabel('Number_Of_Injured_Players',fontsize=10)\n",
    "plt.ylabel('counts',fontsize=10)\n",
    "plt.show()"
   ]
  },
  {
   "cell_type": "markdown",
   "metadata": {},
   "source": [
    "### Analysis on Coach_Experience_Level"
   ]
  },
  {
   "cell_type": "code",
   "execution_count": 21,
   "metadata": {},
   "outputs": [
    {
     "name": "stdout",
     "output_type": "stream",
     "text": [
      "Intermediate    5154\n",
      "Beginner         674\n",
      "Advanced         672\n",
      "Name: Coach_Experience_Level, dtype: int64\n"
     ]
    },
    {
     "data": {
      "image/png": "[encoded data removed]",
      "text/plain": [
       "<Figure size 720x720 with 1 Axes>"
      ]
     },
     "metadata": {
      "needs_background": "light"
     },
     "output_type": "display_data"
    }
   ],
   "source": [
    "target_count=train_raw['Coach_Experience_Level'].value_counts()\n",
    "print(target_count)\n",
    "plt.figure(figsize=(10,10))\n",
    "sns.barplot(target_count.index,target_count.values)\n",
    "plt.xlabel('Coach_Experience_Level',fontsize=10)\n",
    "plt.ylabel('counts',fontsize=10)\n",
    "plt.show()"
   ]
  },
  {
   "cell_type": "code",
   "execution_count": 22,
   "metadata": {},
   "outputs": [
    {
     "data": {
      "text/html": [
       "<div>\n",
       "<style scoped>\n",
       "    .dataframe tbody tr th:only-of-type {\n",
       "        vertical-align: middle;\n",
       "    }\n",
       "\n",
       "    .dataframe tbody tr th {\n",
       "        vertical-align: top;\n",
       "    }\n",
       "\n",
       "    .dataframe thead th {\n",
       "        text-align: right;\n",
       "    }\n",
       "</style>\n",
       "<table border=\"1\" class=\"dataframe\">\n",
       "  <thead>\n",
       "    <tr style=\"text-align: right;\">\n",
       "      <th>Won_Championship</th>\n",
       "      <th>0</th>\n",
       "      <th>1</th>\n",
       "    </tr>\n",
       "    <tr>\n",
       "      <th>Coach_Experience_Level</th>\n",
       "      <th></th>\n",
       "      <th></th>\n",
       "    </tr>\n",
       "  </thead>\n",
       "  <tbody>\n",
       "    <tr>\n",
       "      <th>Advanced</th>\n",
       "      <td>76</td>\n",
       "      <td>596</td>\n",
       "    </tr>\n",
       "    <tr>\n",
       "      <th>Beginner</th>\n",
       "      <td>542</td>\n",
       "      <td>132</td>\n",
       "    </tr>\n",
       "    <tr>\n",
       "      <th>Intermediate</th>\n",
       "      <td>2627</td>\n",
       "      <td>2527</td>\n",
       "    </tr>\n",
       "  </tbody>\n",
       "</table>\n",
       "</div>"
      ],
      "text/plain": [
       "Won_Championship           0     1\n",
       "Coach_Experience_Level            \n",
       "Advanced                  76   596\n",
       "Beginner                 542   132\n",
       "Intermediate            2627  2527"
      ]
     },
     "execution_count": 22,
     "metadata": {},
     "output_type": "execute_result"
    }
   ],
   "source": [
    "test=pd.crosstab(train_raw['Coach_Experience_Level'], train_raw['Won_Championship'])\n",
    "test"
   ]
  },
  {
   "cell_type": "code",
   "execution_count": 23,
   "metadata": {},
   "outputs": [
    {
     "data": {
      "image/png": "[encoded data removed]",
      "text/plain": [
       "<Figure size 720x720 with 1 Axes>"
      ]
     },
     "metadata": {
      "needs_background": "light"
     },
     "output_type": "display_data"
    }
   ],
   "source": [
    "plt.figure(figsize=(10,10))\n",
    "sns.countplot(data=train_raw,x='Coach_Experience_Level',hue='Won_Championship')\n",
    "plt.xlabel('Coach_Experience_Level',fontsize=10)\n",
    "plt.ylabel('counts',fontsize=10)\n",
    "plt.show()"
   ]
  },
  {
   "cell_type": "markdown",
   "metadata": {},
   "source": [
    "### Observation:\n",
    "        -- The experience level of coach matter a lot."
   ]
  },
  {
   "cell_type": "markdown",
   "metadata": {},
   "source": [
    "## Checking for missing values"
   ]
  },
  {
   "cell_type": "code",
   "execution_count": 24,
   "metadata": {
    "scrolled": true
   },
   "outputs": [
    {
     "name": "stdout",
     "output_type": "stream",
     "text": [
      "(0, 9)\n",
      "(0, 8)\n"
     ]
    }
   ],
   "source": [
    "print(train_raw[train_raw.isnull().any(axis=1)].shape)\n",
    "print(X_test[X_test.isnull().any(axis=1)].shape)"
   ]
  },
  {
   "cell_type": "markdown",
   "metadata": {},
   "source": [
    "## Declare the dependant and Independent Variables "
   ]
  },
  {
   "cell_type": "code",
   "execution_count": 25,
   "metadata": {
    "scrolled": true
   },
   "outputs": [
    {
     "name": "stdout",
     "output_type": "stream",
     "text": [
      "(6500, 8)\n",
      "(6500,)\n"
     ]
    }
   ],
   "source": [
    "y = train_raw['Won_Championship'].values\n",
    "X = train_raw.drop(['Won_Championship'], axis=1)\n",
    "#X_test =test_raw.drop('Accident_ID',axis=1)\n",
    "print(X.shape)\n",
    "print(y.shape)"
   ]
  },
  {
   "cell_type": "markdown",
   "metadata": {},
   "source": [
    "## Split data Into train and Validation\n",
    "\n"
   ]
  },
  {
   "cell_type": "code",
   "execution_count": 26,
   "metadata": {},
   "outputs": [
    {
     "name": "stdout",
     "output_type": "stream",
     "text": [
      "(5850, 8)\n",
      "(650, 8)\n",
      "(3500, 8)\n",
      "(5850,)\n",
      "(650,)\n"
     ]
    }
   ],
   "source": [
    "from sklearn.model_selection import train_test_split\n",
    "\n",
    "X_train,X_val,y_train, y_val=train_test_split(X, y, test_size=0.1, random_state=0)\n",
    "\n",
    "\n",
    "print(X_train.shape)\n",
    "print(X_val.shape)\n",
    "print(X_test.shape)\n",
    "print(y_train.shape)\n",
    "print(y_val.shape)\n"
   ]
  },
  {
   "cell_type": "markdown",
   "metadata": {},
   "source": [
    "### Lets vectorize the categorical features"
   ]
  },
  {
   "cell_type": "code",
   "execution_count": 27,
   "metadata": {
    "scrolled": true
   },
   "outputs": [
    {
     "data": {
      "text/plain": [
       "Previous_SB_Wins                      int64\n",
       "Number_Of_Wins_This_Season            int64\n",
       "Number_Of_First_Round_Draft_Picks     int64\n",
       "Team_Value                           object\n",
       "Playing_Style                        object\n",
       "Average_Player_Age                    int64\n",
       "Number_Of_Injured_Players            object\n",
       "Coach_Experience_Level               object\n",
       "dtype: object"
      ]
     },
     "execution_count": 27,
     "metadata": {},
     "output_type": "execute_result"
    }
   ],
   "source": [
    "X_train.dtypes"
   ]
  },
  {
   "cell_type": "code",
   "execution_count": 28,
   "metadata": {},
   "outputs": [
    {
     "data": {
      "text/plain": [
       "Previous_SB_Wins                      int64\n",
       "Number_Of_Wins_This_Season            int64\n",
       "Number_Of_First_Round_Draft_Picks     int64\n",
       "Team_Value                           object\n",
       "Playing_Style                        object\n",
       "Average_Player_Age                    int64\n",
       "Number_Of_Injured_Players            object\n",
       "Coach_Experience_Level               object\n",
       "dtype: object"
      ]
     },
     "execution_count": 28,
     "metadata": {},
     "output_type": "execute_result"
    }
   ],
   "source": [
    "X_test.dtypes"
   ]
  },
  {
   "cell_type": "markdown",
   "metadata": {},
   "source": [
    "### Standardize the numerical features"
   ]
  },
  {
   "cell_type": "code",
   "execution_count": 29,
   "metadata": {
    "scrolled": true
   },
   "outputs": [
    {
     "name": "stdout",
     "output_type": "stream",
     "text": [
      "numeric - Previous_SB_Wins\n",
      "numeric - Number_Of_Wins_This_Season\n",
      "numeric - Number_Of_First_Round_Draft_Picks\n",
      "numeric - Average_Player_Age\n",
      "(5850, 8)\n",
      "(650, 8)\n",
      "(3500, 8)\n"
     ]
    }
   ],
   "source": [
    "from sklearn.preprocessing import StandardScaler\n",
    "from sklearn.feature_extraction.text import CountVectorizer\n",
    "\n",
    "\n",
    "for column in X_train.columns:\n",
    "    if (X_train[column].dtype =='float64') or (X_train[column].dtype =='int64'):\n",
    "        print('numeric - ' + column)\n",
    "        scaler = StandardScaler()\n",
    "        scaler.fit(X_train[column].values.reshape(-1,1))\n",
    "\n",
    "        # we use the fitted CountVectorizer to convert the text to vector\n",
    "        train_column=scaler.transform(X_train[column].values.reshape(-1,1))\n",
    "        val_column=scaler.transform(X_val[column].values.reshape(-1,1))\n",
    "        test_column=scaler.transform(X_test[column].values.reshape(-1,1))\n",
    "        \n",
    "        X_train[column]= train_column\n",
    "        X_val[column]= val_column\n",
    "        X_test[column]=test_column\n",
    "    \n",
    "  \n",
    "        \n",
    "print(X_train.shape)\n",
    "print(X_val.shape)\n",
    "print(X_test.shape)"
   ]
  },
  {
   "cell_type": "markdown",
   "metadata": {},
   "source": [
    "### Vectorize all the categorical features"
   ]
  },
  {
   "cell_type": "code",
   "execution_count": 30,
   "metadata": {
    "scrolled": true
   },
   "outputs": [
    {
     "name": "stdout",
     "output_type": "stream",
     "text": [
      "['Above_Four_Billion', 'Less_Than_Four_Billion', 'Less_Than_Three_Billion']\n",
      "Shape of matrix after one hot encodig  (5850, 3)\n"
     ]
    }
   ],
   "source": [
    "# we use count vectorizer to convert the values into one \n",
    "from sklearn.feature_extraction.text import CountVectorizer\n",
    "vectorizer = CountVectorizer(lowercase=False, binary=True)\n",
    "vectorizer.fit(X_train['Team_Value'].values)\n",
    "\n",
    "# we use the fitted CountVectorizer to convert the text to vector\n",
    "X_train_Team_Value=vectorizer.transform(X_train['Team_Value'].values)\n",
    "X_test_Team_Value=vectorizer.transform(X_test['Team_Value'].values)\n",
    "X_val_Team_Value=vectorizer.transform(X_val['Team_Value'].values)\n",
    "\n",
    "\n",
    "print(vectorizer.get_feature_names())\n",
    "print(\"Shape of matrix after one hot encodig \",X_train_Team_Value.shape)\n"
   ]
  },
  {
   "cell_type": "code",
   "execution_count": 31,
   "metadata": {},
   "outputs": [
    {
     "name": "stdout",
     "output_type": "stream",
     "text": [
      "['Aggressive_Defense', 'Aggressive_Offense', 'Balanced', 'Relaxed']\n",
      "Shape of matrix after one hot encodig  (5850, 4)\n"
     ]
    }
   ],
   "source": [
    "# we use count vectorizer to convert the values into one \n",
    "from sklearn.feature_extraction.text import CountVectorizer\n",
    "vectorizer = CountVectorizer(lowercase=False, binary=True)\n",
    "vectorizer.fit(X_train['Playing_Style'].values)\n",
    "\n",
    "# we use the fitted CountVectorizer to convert the text to vector\n",
    "X_train_Playing_Style=vectorizer.transform(X_train['Playing_Style'].values)\n",
    "X_test_Playing_Style=vectorizer.transform(X_test['Playing_Style'].values)\n",
    "X_val_Playing_Style=vectorizer.transform(X_val['Playing_Style'].values)\n",
    "\n",
    "\n",
    "print(vectorizer.get_feature_names())\n",
    "print(\"Shape of matrix after one hot encodig \",X_train_Playing_Style.shape)\n"
   ]
  },
  {
   "cell_type": "code",
   "execution_count": 32,
   "metadata": {
    "scrolled": true
   },
   "outputs": [
    {
     "name": "stdout",
     "output_type": "stream",
     "text": [
      "['eight', 'five', 'four', 'nine', 'one', 'seven', 'six', 'ten', 'three', 'two']\n",
      "Shape of matrix after one hot encodig  (5850, 10)\n"
     ]
    }
   ],
   "source": [
    "# we use count vectorizer to convert the values into one \n",
    "from sklearn.feature_extraction.text import CountVectorizer\n",
    "vectorizer = CountVectorizer(lowercase=False, binary=True)\n",
    "vectorizer.fit(X_train['Number_Of_Injured_Players'].values)\n",
    "\n",
    "# we use the fitted CountVectorizer to convert the text to vector\n",
    "X_train_Number_Of_Injured_Players=vectorizer.transform(X_train['Number_Of_Injured_Players'].values)\n",
    "X_test_Number_Of_Injured_Players=vectorizer.transform(X_test['Number_Of_Injured_Players'].values)\n",
    "X_val_Number_Of_Injured_Players=vectorizer.transform(X_val['Number_Of_Injured_Players'].values)\n",
    "\n",
    "\n",
    "print(vectorizer.get_feature_names())\n",
    "print(\"Shape of matrix after one hot encodig \",X_train_Number_Of_Injured_Players.shape)\n",
    "\n"
   ]
  },
  {
   "cell_type": "code",
   "execution_count": 33,
   "metadata": {
    "scrolled": true
   },
   "outputs": [
    {
     "name": "stdout",
     "output_type": "stream",
     "text": [
      "['Advanced', 'Beginner', 'Intermediate']\n",
      "Shape of matrix after one hot encodig  (5850, 3)\n"
     ]
    }
   ],
   "source": [
    "# we use count vectorizer to convert the values into one \n",
    "from sklearn.feature_extraction.text import CountVectorizer\n",
    "vectorizer = CountVectorizer(lowercase=False, binary=True)\n",
    "vectorizer.fit(X_train['Coach_Experience_Level'].values)\n",
    "\n",
    "# we use the fitted CountVectorizer to convert the text to vector\n",
    "X_train_Coach_Experience_Level=vectorizer.transform(X_train['Coach_Experience_Level'].values)\n",
    "X_test_Coach_Experience_Level=vectorizer.transform(X_test['Coach_Experience_Level'].values)\n",
    "X_val_Coach_Experience_Level=vectorizer.transform(X_val['Coach_Experience_Level'].values)\n",
    "\n",
    "\n",
    "print(vectorizer.get_feature_names())\n",
    "print(\"Shape of matrix after one hot encodig \",X_train_Coach_Experience_Level.shape)\n"
   ]
  },
  {
   "cell_type": "code",
   "execution_count": 34,
   "metadata": {},
   "outputs": [
    {
     "data": {
      "text/html": [
       "<div>\n",
       "<style scoped>\n",
       "    .dataframe tbody tr th:only-of-type {\n",
       "        vertical-align: middle;\n",
       "    }\n",
       "\n",
       "    .dataframe tbody tr th {\n",
       "        vertical-align: top;\n",
       "    }\n",
       "\n",
       "    .dataframe thead th {\n",
       "        text-align: right;\n",
       "    }\n",
       "</style>\n",
       "<table border=\"1\" class=\"dataframe\">\n",
       "  <thead>\n",
       "    <tr style=\"text-align: right;\">\n",
       "      <th></th>\n",
       "      <th>Previous_SB_Wins</th>\n",
       "      <th>Number_Of_Wins_This_Season</th>\n",
       "      <th>Number_Of_First_Round_Draft_Picks</th>\n",
       "      <th>Team_Value</th>\n",
       "      <th>Playing_Style</th>\n",
       "      <th>Average_Player_Age</th>\n",
       "      <th>Number_Of_Injured_Players</th>\n",
       "      <th>Coach_Experience_Level</th>\n",
       "    </tr>\n",
       "    <tr>\n",
       "      <th>ID</th>\n",
       "      <th></th>\n",
       "      <th></th>\n",
       "      <th></th>\n",
       "      <th></th>\n",
       "      <th></th>\n",
       "      <th></th>\n",
       "      <th></th>\n",
       "      <th></th>\n",
       "    </tr>\n",
       "  </thead>\n",
       "  <tbody>\n",
       "    <tr>\n",
       "      <th>9237</th>\n",
       "      <td>0.294378</td>\n",
       "      <td>0.069391</td>\n",
       "      <td>-1.930774</td>\n",
       "      <td>Less_Than_Three_Billion</td>\n",
       "      <td>Aggressive_Defense</td>\n",
       "      <td>1.140218</td>\n",
       "      <td>four</td>\n",
       "      <td>Beginner</td>\n",
       "    </tr>\n",
       "    <tr>\n",
       "      <th>3725</th>\n",
       "      <td>0.294378</td>\n",
       "      <td>0.069391</td>\n",
       "      <td>-0.256444</td>\n",
       "      <td>Less_Than_Three_Billion</td>\n",
       "      <td>Balanced</td>\n",
       "      <td>-0.610510</td>\n",
       "      <td>seven</td>\n",
       "      <td>Intermediate</td>\n",
       "    </tr>\n",
       "    <tr>\n",
       "      <th>3802</th>\n",
       "      <td>0.294378</td>\n",
       "      <td>0.949949</td>\n",
       "      <td>1.417885</td>\n",
       "      <td>Less_Than_Four_Billion</td>\n",
       "      <td>Balanced</td>\n",
       "      <td>-0.610510</td>\n",
       "      <td>six</td>\n",
       "      <td>Intermediate</td>\n",
       "    </tr>\n",
       "    <tr>\n",
       "      <th>9321</th>\n",
       "      <td>0.294378</td>\n",
       "      <td>-1.691724</td>\n",
       "      <td>-1.930774</td>\n",
       "      <td>Less_Than_Four_Billion</td>\n",
       "      <td>Aggressive_Defense</td>\n",
       "      <td>1.140218</td>\n",
       "      <td>three</td>\n",
       "      <td>Intermediate</td>\n",
       "    </tr>\n",
       "    <tr>\n",
       "      <th>2214</th>\n",
       "      <td>0.294378</td>\n",
       "      <td>-1.691724</td>\n",
       "      <td>-0.256444</td>\n",
       "      <td>Less_Than_Four_Billion</td>\n",
       "      <td>Balanced</td>\n",
       "      <td>-0.610510</td>\n",
       "      <td>five</td>\n",
       "      <td>Intermediate</td>\n",
       "    </tr>\n",
       "    <tr>\n",
       "      <th>...</th>\n",
       "      <td>...</td>\n",
       "      <td>...</td>\n",
       "      <td>...</td>\n",
       "      <td>...</td>\n",
       "      <td>...</td>\n",
       "      <td>...</td>\n",
       "      <td>...</td>\n",
       "      <td>...</td>\n",
       "    </tr>\n",
       "    <tr>\n",
       "      <th>8335</th>\n",
       "      <td>-1.419167</td>\n",
       "      <td>0.949949</td>\n",
       "      <td>1.417885</td>\n",
       "      <td>Above_Four_Billion</td>\n",
       "      <td>Aggressive_Defense</td>\n",
       "      <td>-0.610510</td>\n",
       "      <td>seven</td>\n",
       "      <td>Intermediate</td>\n",
       "    </tr>\n",
       "    <tr>\n",
       "      <th>8240</th>\n",
       "      <td>-1.419167</td>\n",
       "      <td>-2.572282</td>\n",
       "      <td>-1.930774</td>\n",
       "      <td>Less_Than_Four_Billion</td>\n",
       "      <td>Aggressive_Offense</td>\n",
       "      <td>-0.610510</td>\n",
       "      <td>nine</td>\n",
       "      <td>Beginner</td>\n",
       "    </tr>\n",
       "    <tr>\n",
       "      <th>9784</th>\n",
       "      <td>0.294378</td>\n",
       "      <td>-1.691724</td>\n",
       "      <td>-1.930774</td>\n",
       "      <td>Less_Than_Four_Billion</td>\n",
       "      <td>Balanced</td>\n",
       "      <td>1.140218</td>\n",
       "      <td>seven</td>\n",
       "      <td>Intermediate</td>\n",
       "    </tr>\n",
       "    <tr>\n",
       "      <th>8287</th>\n",
       "      <td>0.294378</td>\n",
       "      <td>0.069391</td>\n",
       "      <td>-0.256444</td>\n",
       "      <td>Less_Than_Four_Billion</td>\n",
       "      <td>Aggressive_Defense</td>\n",
       "      <td>1.140218</td>\n",
       "      <td>five</td>\n",
       "      <td>Intermediate</td>\n",
       "    </tr>\n",
       "    <tr>\n",
       "      <th>8408</th>\n",
       "      <td>0.294378</td>\n",
       "      <td>-0.811167</td>\n",
       "      <td>-0.256444</td>\n",
       "      <td>Less_Than_Four_Billion</td>\n",
       "      <td>Aggressive_Defense</td>\n",
       "      <td>1.140218</td>\n",
       "      <td>five</td>\n",
       "      <td>Intermediate</td>\n",
       "    </tr>\n",
       "  </tbody>\n",
       "</table>\n",
       "<p>5850 rows × 8 columns</p>\n",
       "</div>"
      ],
      "text/plain": [
       "      Previous_SB_Wins  Number_Of_Wins_This_Season  \\\n",
       "ID                                                   \n",
       "9237          0.294378                    0.069391   \n",
       "3725          0.294378                    0.069391   \n",
       "3802          0.294378                    0.949949   \n",
       "9321          0.294378                   -1.691724   \n",
       "2214          0.294378                   -1.691724   \n",
       "...                ...                         ...   \n",
       "8335         -1.419167                    0.949949   \n",
       "8240         -1.419167                   -2.572282   \n",
       "9784          0.294378                   -1.691724   \n",
       "8287          0.294378                    0.069391   \n",
       "8408          0.294378                   -0.811167   \n",
       "\n",
       "      Number_Of_First_Round_Draft_Picks               Team_Value  \\\n",
       "ID                                                                 \n",
       "9237                          -1.930774  Less_Than_Three_Billion   \n",
       "3725                          -0.256444  Less_Than_Three_Billion   \n",
       "3802                           1.417885   Less_Than_Four_Billion   \n",
       "9321                          -1.930774   Less_Than_Four_Billion   \n",
       "2214                          -0.256444   Less_Than_Four_Billion   \n",
       "...                                 ...                      ...   \n",
       "8335                           1.417885       Above_Four_Billion   \n",
       "8240                          -1.930774   Less_Than_Four_Billion   \n",
       "9784                          -1.930774   Less_Than_Four_Billion   \n",
       "8287                          -0.256444   Less_Than_Four_Billion   \n",
       "8408                          -0.256444   Less_Than_Four_Billion   \n",
       "\n",
       "           Playing_Style  Average_Player_Age Number_Of_Injured_Players  \\\n",
       "ID                                                                       \n",
       "9237  Aggressive_Defense            1.140218                      four   \n",
       "3725            Balanced           -0.610510                     seven   \n",
       "3802            Balanced           -0.610510                       six   \n",
       "9321  Aggressive_Defense            1.140218                     three   \n",
       "2214            Balanced           -0.610510                      five   \n",
       "...                  ...                 ...                       ...   \n",
       "8335  Aggressive_Defense           -0.610510                     seven   \n",
       "8240  Aggressive_Offense           -0.610510                      nine   \n",
       "9784            Balanced            1.140218                     seven   \n",
       "8287  Aggressive_Defense            1.140218                      five   \n",
       "8408  Aggressive_Defense            1.140218                      five   \n",
       "\n",
       "     Coach_Experience_Level  \n",
       "ID                           \n",
       "9237               Beginner  \n",
       "3725           Intermediate  \n",
       "3802           Intermediate  \n",
       "9321           Intermediate  \n",
       "2214           Intermediate  \n",
       "...                     ...  \n",
       "8335           Intermediate  \n",
       "8240               Beginner  \n",
       "9784           Intermediate  \n",
       "8287           Intermediate  \n",
       "8408           Intermediate  \n",
       "\n",
       "[5850 rows x 8 columns]"
      ]
     },
     "execution_count": 34,
     "metadata": {},
     "output_type": "execute_result"
    }
   ],
   "source": [
    "X_train"
   ]
  },
  {
   "cell_type": "markdown",
   "metadata": {
    "colab_type": "text",
    "id": "5UbaJH21Cypa"
   },
   "source": [
    "### Merging all the above features"
   ]
  },
  {
   "cell_type": "code",
   "execution_count": 35,
   "metadata": {},
   "outputs": [
    {
     "name": "stdout",
     "output_type": "stream",
     "text": [
      "(5850, 24)\n",
      "(3500, 24)\n",
      "(650, 24)\n"
     ]
    }
   ],
   "source": [
    "# merge two sparse matrices: https://stackoverflow.com/a/19710648/4084039\n",
    "from scipy.sparse import hstack\n",
    "\n",
    "# with the same hstack function we are concatinating a sparse matrix and a dense matirx :)\n",
    "X_train = hstack((X_train[['Previous_SB_Wins','Number_Of_Wins_This_Season','Number_Of_First_Round_Draft_Picks','Average_Player_Age']],X_train_Team_Value,X_train_Playing_Style,X_train_Number_Of_Injured_Players,X_train_Coach_Experience_Level)).toarray()\n",
    "\n",
    "\n",
    "X_test = hstack((X_test[['Previous_SB_Wins','Number_Of_Wins_This_Season','Number_Of_First_Round_Draft_Picks','Average_Player_Age']],X_test_Team_Value,X_test_Playing_Style,X_test_Number_Of_Injured_Players,X_test_Coach_Experience_Level)).toarray()\n",
    "\n",
    "\n",
    "X_val = hstack((X_val[['Previous_SB_Wins','Number_Of_Wins_This_Season','Number_Of_First_Round_Draft_Picks','Average_Player_Age']],X_val_Team_Value,X_val_Playing_Style,X_val_Number_Of_Injured_Players,X_val_Coach_Experience_Level)).toarray()\n",
    "\n",
    "print(X_train.shape)\n",
    "print(X_test.shape)\n",
    "print(X_val.shape)\n"
   ]
  },
  {
   "cell_type": "markdown",
   "metadata": {},
   "source": [
    "## applying t-SNE\n",
    "    -- checking for data seperatabilty in 2d space"
   ]
  },
  {
   "cell_type": "code",
   "execution_count": 36,
   "metadata": {},
   "outputs": [],
   "source": [
    "from sklearn.manifold import TSNE\n",
    "\n",
    "labels=y_train\n",
    "model =TSNE(n_components=2, random_state=0,perplexity=30)\n",
    "tsne_data = model.fit_transform(X_train)\n",
    "temp=tsne_data"
   ]
  },
  {
   "cell_type": "code",
   "execution_count": 37,
   "metadata": {},
   "outputs": [
    {
     "name": "stdout",
     "output_type": "stream",
     "text": [
      "(5850, 2)\n",
      "(5850, 1)\n"
     ]
    }
   ],
   "source": [
    "labels=labels[:,np.newaxis]\n",
    "print(tsne_data.shape)\n",
    "print(labels.shape)"
   ]
  },
  {
   "cell_type": "code",
   "execution_count": 38,
   "metadata": {},
   "outputs": [
    {
     "data": {
      "image/png": "[encoded data removed]",
      "text/plain": [
       "<Figure size 484x432 with 1 Axes>"
      ]
     },
     "metadata": {
      "needs_background": "light"
     },
     "output_type": "display_data"
    }
   ],
   "source": [
    "#creating a new data frame which help us in ploting the result data\n",
    "temp1 = np.concatenate((temp, labels),axis=1)\n",
    "temp1 = pd.DataFrame(data=temp1, columns=(\"Dim_1\", \"Dim_2\", \"label\"))\n",
    "\n",
    "# Ploting the result of tsne\n",
    "sns.FacetGrid(temp1, hue=\"label\", size=6).map(plt.scatter, 'Dim_1', 'Dim_2').add_legend()\n",
    "plt.title(\"T-SNE\")\n",
    "plt.show()"
   ]
  },
  {
   "cell_type": "markdown",
   "metadata": {},
   "source": [
    "## Applying Logistic Regression with HyperParameter Tuning"
   ]
  },
  {
   "cell_type": "code",
   "execution_count": 39,
   "metadata": {},
   "outputs": [],
   "source": [
    "from sklearn.linear_model import LogisticRegression\n",
    "from sklearn.metrics import f1_score\n",
    "from sklearn.model_selection import RandomizedSearchCV\n",
    "\n",
    "summary=[]\n",
    "\n",
    "#hyperparameters\n",
    "C=[0.00001,0.0001,0.001,0.01,0.1,0.2,0.3,0.4,0.5,0.6,0.7,0.8,0.9,1,10,100,200,300,400,500,600,700,800,900,1000,10000]\n",
    "penalty=['l1','l2','elasticnet','none']\n",
    "dual=[True,False]\n",
    "fit_intercept=[True,False]\n",
    "class_weight=['balanced',None]\n",
    "solver=['newton-cg', 'lbfgs', 'liblinear', 'sag', 'saga']\n",
    "\n",
    "# Create hyperparameter options\n",
    "hyperparameters = dict(C=C, penalty=penalty,dual=dual,fit_intercept=fit_intercept,class_weight=class_weight,solver=solver)\n",
    "\n",
    "# create instance of model\n",
    "lr=LogisticRegression()\n",
    "\n",
    "# Create randomized search 5-fold cross validation and 100 iterations\n",
    "clf = RandomizedSearchCV(lr, hyperparameters, random_state=1, n_iter=100, cv=5, verbose=0, n_jobs=-1)\n",
    "\n",
    "# fit the data\n",
    "best_lr=clf.fit(X_train,y_train)\n",
    "\n",
    "# predict the output\n",
    "y_pred=best_lr.predict(X_val)\n",
    "\n",
    "#evaluate f1 score \n",
    "f1=f1_score(y_val,y_pred,average='binary')\n",
    "\n",
    "#add into list to view in table \n",
    "summary.append(['logistic Regression',best_lr.best_estimator_.get_params(),f1])"
   ]
  },
  {
   "cell_type": "markdown",
   "metadata": {},
   "source": [
    "## Applying SVM Regression with HyperParameter Tuning"
   ]
  },
  {
   "cell_type": "code",
   "execution_count": 40,
   "metadata": {},
   "outputs": [],
   "source": [
    "from sklearn.linear_model import SGDClassifier\n",
    "from sklearn.model_selection import RandomizedSearchCV\n",
    "\n",
    "\n",
    "C=[0.00001,0.0001,0.001,0.01,0.1,0.2,0.3,0.4,0.5,0.6,0.7,0.8,0.9,1,10,100,200,300,400,500,600,700,800,900,1000,10000]\n",
    "penalty=['l1','l2','elasticnet']\n",
    "fit_intercept=[True,False]\n",
    "shuffle=[True,False]\n",
    "class_weight=['balanced',None]\n",
    "\n",
    "\n",
    "# Create hyperparameter options\n",
    "hyperparameters = dict(alpha=C, penalty=penalty,fit_intercept=fit_intercept,shuffle=shuffle,class_weight=class_weight)    \n",
    "\n",
    "# create instance of model\n",
    "sgd=SGDClassifier(loss='hinge')\n",
    "\n",
    "# Create randomized search 5-fold cross validation and 100 iterations\n",
    "clf = RandomizedSearchCV(sgd, hyperparameters, random_state=1, n_iter=100, cv=5, verbose=0, n_jobs=-1)\n",
    "\n",
    "# fit the data\n",
    "best_sgd=clf.fit(X_train,y_train)\n",
    "\n",
    "# predict the output\n",
    "y_pred=best_sgd.predict(X_val)\n",
    "\n",
    "#evaluate f1 score \n",
    "f1=f1_score(y_val,y_pred,average='binary')\n",
    "\n",
    "#add into list to view in table \n",
    "summary.append(['SVM',best_sgd.best_estimator_.get_params(),f1])"
   ]
  },
  {
   "cell_type": "markdown",
   "metadata": {},
   "source": [
    "## Applying KNN Model"
   ]
  },
  {
   "cell_type": "code",
   "execution_count": 41,
   "metadata": {},
   "outputs": [],
   "source": [
    "from sklearn.neighbors import KNeighborsClassifier\n",
    "\n",
    "from sklearn.model_selection import RandomizedSearchCV\n",
    "\n",
    "\n",
    "n_neighbors=range(1,100,5)\n",
    "weights=['uniform','distance']\n",
    "algorithm=['auto', 'ball_tree', 'kd_tree','brute']\n",
    "\n",
    "\n",
    "# Create hyperparameter options\n",
    "hyperparameters = dict(n_neighbors=n_neighbors, weights=weights,algorithm=algorithm)    \n",
    "\n",
    "# create instance of model\n",
    "knn=KNeighborsClassifier()\n",
    "\n",
    "# Create randomized search 5-fold cross validation and 100 iterations\n",
    "clf = RandomizedSearchCV(knn, hyperparameters, random_state=1, n_iter=100, cv=5, verbose=0, n_jobs=-1)\n",
    "\n",
    "# fit the data\n",
    "best_knn=clf.fit(X_train,y_train)\n",
    "\n",
    "# predict the output\n",
    "y_pred=best_knn.predict(X_val)\n",
    "\n",
    "#evaluate f1 score \n",
    "f1=f1_score(y_val,y_pred,average='binary')\n",
    "\n",
    "#add into list to view in table \n",
    "summary.append(['knn',best_knn.best_estimator_.get_params(),f1])"
   ]
  },
  {
   "cell_type": "markdown",
   "metadata": {},
   "source": [
    "## Applying Descision Tree Model"
   ]
  },
  {
   "cell_type": "code",
   "execution_count": 42,
   "metadata": {},
   "outputs": [],
   "source": [
    "from sklearn.tree import DecisionTreeClassifier\n",
    "from sklearn.model_selection import RandomizedSearchCV\n",
    "\n",
    "min_samples_split=range(2,100,5)\n",
    "min_samples_leaf=range(1,100,5)\n",
    "criterion = ['gini', 'entropy']\n",
    "splitter=['best', 'random']\n",
    "max_features=['auto', 'sqrt', 'log2']\n",
    "class_weight=['balanced',None]\n",
    "\n",
    "\n",
    "\n",
    "\n",
    "\n",
    "# Create hyperparameter options\n",
    "hyperparameters = dict(min_samples_split=min_samples_split, min_samples_leaf=min_samples_leaf,criterion=criterion,splitter=splitter,max_features=max_features,class_weight=class_weight)    \n",
    "\n",
    "# create instance of model\n",
    "DT=DecisionTreeClassifier()\n",
    "\n",
    "# Create randomized search 5-fold cross validation and 100 iterations\n",
    "clf = RandomizedSearchCV(DT, hyperparameters, random_state=1, n_iter=100, cv=5, verbose=0, n_jobs=-1)\n",
    "\n",
    "# fit the data\n",
    "best_dt=clf.fit(X_train,y_train)\n",
    "\n",
    "# predict the output\n",
    "y_pred=best_dt.predict(X_val)\n",
    "\n",
    "#evaluate f1 score \n",
    "f1=f1_score(y_val,y_pred,average='binary')\n",
    "\n",
    "#add into list to view in table \n",
    "summary.append(['DT',best_dt.best_estimator_.get_params(),f1])"
   ]
  },
  {
   "cell_type": "markdown",
   "metadata": {},
   "source": [
    "## Applying Random Forest  Model"
   ]
  },
  {
   "cell_type": "code",
   "execution_count": 43,
   "metadata": {},
   "outputs": [],
   "source": [
    "from sklearn.ensemble import RandomForestClassifier\n",
    "from sklearn.model_selection import RandomizedSearchCV\n",
    "\n",
    "min_samples_split=range(2,100,5)\n",
    "min_samples_leaf=range(1,100,5)\n",
    "criterion = ['gini', 'entropy']\n",
    "n_estimators=range(1,1000,25)\n",
    "bootstrap=[True,False]\n",
    "class_weight=['balanced',None]\n",
    "\n",
    "\n",
    "\n",
    "\n",
    "\n",
    "# Create hyperparameter options\n",
    "hyperparameters = dict(min_samples_split=min_samples_split, min_samples_leaf=min_samples_leaf,criterion=criterion,\n",
    "                       n_estimators=n_estimators,bootstrap=bootstrap,class_weight=class_weight)    \n",
    "\n",
    "# create instance of model\n",
    "RF=RandomForestClassifier()\n",
    "\n",
    "# Create randomized search 5-fold cross validation and 100 iterations\n",
    "clf = RandomizedSearchCV(RF, hyperparameters, random_state=1, n_iter=100, cv=5, verbose=0, n_jobs=-1)\n",
    "\n",
    "# fit the data\n",
    "best_rf=clf.fit(X_train,y_train)\n",
    "\n",
    "# predict the output\n",
    "y_pred=best_rf.predict(X_val)\n",
    "\n",
    "#evaluate f1 score \n",
    "f1=f1_score(y_val,y_pred,average='binary')\n",
    "\n",
    "#add into list to view in table \n",
    "summary.append(['RF',best_rf.best_estimator_.get_params(),f1])"
   ]
  },
  {
   "cell_type": "markdown",
   "metadata": {},
   "source": [
    "## Applying Gradient boosted Descision Tree Model\n",
    "\n"
   ]
  },
  {
   "cell_type": "code",
   "execution_count": 44,
   "metadata": {},
   "outputs": [],
   "source": [
    "import xgboost as xgb\n",
    "from xgboost.sklearn import XGBClassifier\n",
    "from sklearn.model_selection import RandomizedSearchCV\n",
    "\n",
    "max_depth=range(2,100,5)\n",
    "learning_rate =np.arange(0,1,0.1)\n",
    "n_estimators=range(1,1000,25)\n",
    "min_child_weight = [ 1, 3, 5, 7 ]\n",
    "gamma  = [ 0.0, 0.1, 0.2 , 0.3, 0.4 ]\n",
    "colsample_bytree = [ 0.3, 0.4, 0.5 , 0.7 ]\n",
    "\n",
    "\n",
    "\n",
    "\n",
    "\n",
    "\n",
    "# Create hyperparameter options\n",
    "hyperparameters = dict(max_depth=max_depth, learning_rate=learning_rate,n_estimators=n_estimators,min_child_weight=min_child_weight,\n",
    "                      gamma=gamma,colsample_bytree=colsample_bytree)    \n",
    "\n",
    "# create instance of model\n",
    "GBDT=XGBClassifier()\n",
    "\n",
    "# Create randomized search 5-fold cross validation and 100 iterations\n",
    "clf = RandomizedSearchCV(GBDT, hyperparameters, random_state=1, n_iter=100, cv=5, verbose=0, n_jobs=-1)\n",
    "\n",
    "# fit the data\n",
    "best_gb=clf.fit(X_train,y_train)\n",
    "\n",
    "# predict the output\n",
    "y_pred=best_gb.predict(X_val)\n",
    "\n",
    "#evaluate f1 score \n",
    "f1=f1_score(y_val,y_pred,average='binary')\n",
    "\n",
    "#add into list to view in table \n",
    "summary.append(['XGDT',best_gb.best_estimator_.get_params(),f1])"
   ]
  },
  {
   "cell_type": "markdown",
   "metadata": {},
   "source": [
    "## Applying a Neural Network "
   ]
  },
  {
   "cell_type": "code",
   "execution_count": 45,
   "metadata": {},
   "outputs": [
    {
     "name": "stderr",
     "output_type": "stream",
     "text": [
      "Using TensorFlow backend.\n"
     ]
    }
   ],
   "source": [
    "from keras.models import Sequential \n",
    "from keras.layers import Dense, Activation \n",
    "from keras.layers import Dropout\n",
    "from keras.layers.normalization import BatchNormalization\n"
   ]
  },
  {
   "cell_type": "code",
   "execution_count": 46,
   "metadata": {
    "scrolled": true
   },
   "outputs": [
    {
     "name": "stdout",
     "output_type": "stream",
     "text": [
      "Model: \"sequential_1\"\n",
      "_________________________________________________________________\n",
      "Layer (type)                 Output Shape              Param #   \n",
      "=================================================================\n",
      "dense_1 (Dense)              (None, 128)               3200      \n",
      "_________________________________________________________________\n",
      "batch_normalization_1 (Batch (None, 128)               512       \n",
      "_________________________________________________________________\n",
      "dropout_1 (Dropout)          (None, 128)               0         \n",
      "_________________________________________________________________\n",
      "dense_2 (Dense)              (None, 256)               33024     \n",
      "_________________________________________________________________\n",
      "batch_normalization_2 (Batch (None, 256)               1024      \n",
      "_________________________________________________________________\n",
      "dropout_2 (Dropout)          (None, 256)               0         \n",
      "_________________________________________________________________\n",
      "dense_3 (Dense)              (None, 512)               131584    \n",
      "_________________________________________________________________\n",
      "batch_normalization_3 (Batch (None, 512)               2048      \n",
      "_________________________________________________________________\n",
      "dropout_3 (Dropout)          (None, 512)               0         \n",
      "_________________________________________________________________\n",
      "dense_4 (Dense)              (None, 32)                16416     \n",
      "_________________________________________________________________\n",
      "batch_normalization_4 (Batch (None, 32)                128       \n",
      "_________________________________________________________________\n",
      "dropout_4 (Dropout)          (None, 32)                0         \n",
      "_________________________________________________________________\n",
      "dense_5 (Dense)              (None, 1)                 33        \n",
      "=================================================================\n",
      "Total params: 187,969\n",
      "Trainable params: 186,113\n",
      "Non-trainable params: 1,856\n",
      "_________________________________________________________________\n"
     ]
    }
   ],
   "source": [
    "model_1=Sequential()\n",
    "\n",
    "model_1.add(Dense(output_dim=128,input_dim=X_train.shape[1],activation='relu'))\n",
    "model_1.add(BatchNormalization())\n",
    "model_1.add(Dropout(0.5))\n",
    "\n",
    "\n",
    "model_1.add(Dense(output_dim=256,activation='relu'))\n",
    "model_1.add(BatchNormalization())\n",
    "model_1.add(Dropout(0.5))\n",
    "\n",
    "model_1.add(Dense(output_dim=512,activation='relu'))\n",
    "model_1.add(BatchNormalization())\n",
    "model_1.add(Dropout(0.5))\n",
    "\n",
    "model_1.add(Dense(output_dim=32,activation='relu'))\n",
    "model_1.add(BatchNormalization())\n",
    "model_1.add(Dropout(0.5))\n",
    "\n",
    "model_1.add(Dense(output_dim=1,activation='sigmoid'))\n",
    "\n",
    "model_1.summary()"
   ]
  },
  {
   "cell_type": "code",
   "execution_count": 47,
   "metadata": {},
   "outputs": [],
   "source": [
    "from keras import backend as K\n",
    "\n",
    "def recall_m(y_true, y_pred):\n",
    "        true_positives = K.sum(K.round(K.clip(y_true * y_pred, 0, 1)))\n",
    "        possible_positives = K.sum(K.round(K.clip(y_true, 0, 1)))\n",
    "        recall = true_positives / (possible_positives + K.epsilon())\n",
    "        return recall\n",
    "\n",
    "def precision_m(y_true, y_pred):\n",
    "        true_positives = K.sum(K.round(K.clip(y_true * y_pred, 0, 1)))\n",
    "        predicted_positives = K.sum(K.round(K.clip(y_pred, 0, 1)))\n",
    "        precision = true_positives / (predicted_positives + K.epsilon())\n",
    "        return precision\n",
    "\n",
    "def f1_m(y_true, y_pred):\n",
    "    precision = precision_m(y_true, y_pred)\n",
    "    recall = recall_m(y_true, y_pred)\n",
    "    return 2*((precision*recall)/(precision+recall+K.epsilon()))"
   ]
  },
  {
   "cell_type": "code",
   "execution_count": 48,
   "metadata": {},
   "outputs": [
    {
     "name": "stdout",
     "output_type": "stream",
     "text": [
      "Train on 5850 samples, validate on 650 samples\n",
      "Epoch 1/20\n",
      "5850/5850 [==============================] - 4s 638us/step - loss: 0.7944 - accuracy: 0.5800 - f1_m: 0.5629 - val_loss: 0.5755 - val_accuracy: 0.7200 - val_f1_m: 0.6863\n",
      "Epoch 2/20\n",
      "5850/5850 [==============================] - 3s 431us/step - loss: 0.6562 - accuracy: 0.6279 - f1_m: 0.6118 - val_loss: 0.5691 - val_accuracy: 0.7200 - val_f1_m: 0.6890\n",
      "Epoch 3/20\n",
      "5850/5850 [==============================] - 2s 389us/step - loss: 0.6132 - accuracy: 0.6579 - f1_m: 0.6387 - val_loss: 0.5644 - val_accuracy: 0.7231 - val_f1_m: 0.7037\n",
      "Epoch 4/20\n",
      "5850/5850 [==============================] - 2s 390us/step - loss: 0.5899 - accuracy: 0.6897 - f1_m: 0.6753 - val_loss: 0.5441 - val_accuracy: 0.7292 - val_f1_m: 0.7025\n",
      "Epoch 5/20\n",
      "5850/5850 [==============================] - 2s 391us/step - loss: 0.5811 - accuracy: 0.6981 - f1_m: 0.6887 - val_loss: 0.5424 - val_accuracy: 0.7385 - val_f1_m: 0.7094\n",
      "Epoch 6/20\n",
      "5850/5850 [==============================] - 2s 392us/step - loss: 0.5640 - accuracy: 0.7087 - f1_m: 0.6988 - val_loss: 0.5439 - val_accuracy: 0.7215 - val_f1_m: 0.7024\n",
      "Epoch 7/20\n",
      "5850/5850 [==============================] - 2s 404us/step - loss: 0.5704 - accuracy: 0.7097 - f1_m: 0.7010 - val_loss: 0.5370 - val_accuracy: 0.7385 - val_f1_m: 0.6904\n",
      "Epoch 8/20\n",
      "5850/5850 [==============================] - 2s 387us/step - loss: 0.5550 - accuracy: 0.7190 - f1_m: 0.7053 - val_loss: 0.5365 - val_accuracy: 0.7492 - val_f1_m: 0.7361\n",
      "Epoch 9/20\n",
      "5850/5850 [==============================] - 2s 411us/step - loss: 0.5549 - accuracy: 0.7168 - f1_m: 0.7091 - val_loss: 0.5277 - val_accuracy: 0.7385 - val_f1_m: 0.7230\n",
      "Epoch 10/20\n",
      "5850/5850 [==============================] - 2s 403us/step - loss: 0.5548 - accuracy: 0.7178 - f1_m: 0.7053 - val_loss: 0.5265 - val_accuracy: 0.7462 - val_f1_m: 0.7368\n",
      "Epoch 11/20\n",
      "5850/5850 [==============================] - 2s 402us/step - loss: 0.5514 - accuracy: 0.7212 - f1_m: 0.7109 - val_loss: 0.5258 - val_accuracy: 0.7262 - val_f1_m: 0.7045\n",
      "Epoch 12/20\n",
      "5850/5850 [==============================] - 2s 396us/step - loss: 0.5432 - accuracy: 0.7279 - f1_m: 0.7181 - val_loss: 0.5309 - val_accuracy: 0.7415 - val_f1_m: 0.7197\n",
      "Epoch 13/20\n",
      "5850/5850 [==============================] - 2s 397us/step - loss: 0.5468 - accuracy: 0.7275 - f1_m: 0.7163 - val_loss: 0.5263 - val_accuracy: 0.7354 - val_f1_m: 0.7101\n",
      "Epoch 14/20\n",
      "5850/5850 [==============================] - 2s 398us/step - loss: 0.5501 - accuracy: 0.7255 - f1_m: 0.7127 - val_loss: 0.5297 - val_accuracy: 0.7431 - val_f1_m: 0.7102\n",
      "Epoch 15/20\n",
      "5850/5850 [==============================] - 2s 387us/step - loss: 0.5418 - accuracy: 0.7304 - f1_m: 0.7190 - val_loss: 0.5258 - val_accuracy: 0.7385 - val_f1_m: 0.7106\n",
      "Epoch 16/20\n",
      "5850/5850 [==============================] - 2s 387us/step - loss: 0.5381 - accuracy: 0.7391 - f1_m: 0.7282 - val_loss: 0.5236 - val_accuracy: 0.7369 - val_f1_m: 0.7124\n",
      "Epoch 17/20\n",
      "5850/5850 [==============================] - 2s 389us/step - loss: 0.5447 - accuracy: 0.7287 - f1_m: 0.7126 - val_loss: 0.5293 - val_accuracy: 0.7523 - val_f1_m: 0.7324\n",
      "Epoch 18/20\n",
      "5850/5850 [==============================] - 2s 385us/step - loss: 0.5366 - accuracy: 0.7318 - f1_m: 0.7208 - val_loss: 0.5247 - val_accuracy: 0.7492 - val_f1_m: 0.7339\n",
      "Epoch 19/20\n",
      "5850/5850 [==============================] - 2s 387us/step - loss: 0.5334 - accuracy: 0.7345 - f1_m: 0.7258 - val_loss: 0.5218 - val_accuracy: 0.7415 - val_f1_m: 0.7193\n",
      "Epoch 20/20\n",
      "5850/5850 [==============================] - 2s 386us/step - loss: 0.5379 - accuracy: 0.7258 - f1_m: 0.7170 - val_loss: 0.5206 - val_accuracy: 0.7462 - val_f1_m: 0.7342\n"
     ]
    }
   ],
   "source": [
    "model_1.compile(optimizer='adam',loss='binary_crossentropy',metrics=['accuracy',f1_m])\n",
    "\n",
    "history_1=model_1.fit(X_train,y_train,batch_size=10 ,epochs=20,verbose=1,validation_data=(X_val,y_val))"
   ]
  },
  {
   "cell_type": "code",
   "execution_count": 49,
   "metadata": {},
   "outputs": [
    {
     "name": "stdout",
     "output_type": "stream",
     "text": [
      "650/650 [==============================] - 0s 41us/step\n"
     ]
    },
    {
     "data": {
      "text/plain": [
       "[0.5205689155138455, 0.7461538314819336, 0.7456766963005066]"
      ]
     },
     "execution_count": 49,
     "metadata": {},
     "output_type": "execute_result"
    }
   ],
   "source": [
    "res=model_1.evaluate(X_val,y_val)\n",
    "summary.append(['NN','NA',res[2]])\n",
    "res"
   ]
  },
  {
   "cell_type": "code",
   "execution_count": 50,
   "metadata": {
    "scrolled": true
   },
   "outputs": [
    {
     "data": {
      "text/html": [
       "<div>\n",
       "<style scoped>\n",
       "    .dataframe tbody tr th:only-of-type {\n",
       "        vertical-align: middle;\n",
       "    }\n",
       "\n",
       "    .dataframe tbody tr th {\n",
       "        vertical-align: top;\n",
       "    }\n",
       "\n",
       "    .dataframe thead th {\n",
       "        text-align: right;\n",
       "    }\n",
       "</style>\n",
       "<table border=\"1\" class=\"dataframe\">\n",
       "  <thead>\n",
       "    <tr style=\"text-align: right;\">\n",
       "      <th></th>\n",
       "      <th>Model</th>\n",
       "      <th>Best Hyper parameters</th>\n",
       "      <th>f1-score</th>\n",
       "    </tr>\n",
       "  </thead>\n",
       "  <tbody>\n",
       "    <tr>\n",
       "      <th>0</th>\n",
       "      <td>logistic Regression</td>\n",
       "      <td>{'C': 0.4, 'class_weight': 'balanced', 'dual':...</td>\n",
       "      <td>0.665600</td>\n",
       "    </tr>\n",
       "    <tr>\n",
       "      <th>1</th>\n",
       "      <td>SVM</td>\n",
       "      <td>{'alpha': 0.001, 'average': False, 'class_weig...</td>\n",
       "      <td>0.680062</td>\n",
       "    </tr>\n",
       "    <tr>\n",
       "      <th>2</th>\n",
       "      <td>knn</td>\n",
       "      <td>{'algorithm': 'ball_tree', 'leaf_size': 30, 'm...</td>\n",
       "      <td>0.731411</td>\n",
       "    </tr>\n",
       "    <tr>\n",
       "      <th>3</th>\n",
       "      <td>DT</td>\n",
       "      <td>{'ccp_alpha': 0.0, 'class_weight': None, 'crit...</td>\n",
       "      <td>0.719755</td>\n",
       "    </tr>\n",
       "    <tr>\n",
       "      <th>4</th>\n",
       "      <td>RF</td>\n",
       "      <td>{'bootstrap': True, 'ccp_alpha': 0.0, 'class_w...</td>\n",
       "      <td>0.735069</td>\n",
       "    </tr>\n",
       "    <tr>\n",
       "      <th>5</th>\n",
       "      <td>XGDT</td>\n",
       "      <td>{'base_score': 0.5, 'booster': 'gbtree', 'cols...</td>\n",
       "      <td>0.741538</td>\n",
       "    </tr>\n",
       "    <tr>\n",
       "      <th>6</th>\n",
       "      <td>NN</td>\n",
       "      <td>NA</td>\n",
       "      <td>0.745677</td>\n",
       "    </tr>\n",
       "  </tbody>\n",
       "</table>\n",
       "</div>"
      ],
      "text/plain": [
       "                 Model                              Best Hyper parameters  \\\n",
       "0  logistic Regression  {'C': 0.4, 'class_weight': 'balanced', 'dual':...   \n",
       "1                  SVM  {'alpha': 0.001, 'average': False, 'class_weig...   \n",
       "2                  knn  {'algorithm': 'ball_tree', 'leaf_size': 30, 'm...   \n",
       "3                   DT  {'ccp_alpha': 0.0, 'class_weight': None, 'crit...   \n",
       "4                   RF  {'bootstrap': True, 'ccp_alpha': 0.0, 'class_w...   \n",
       "5                 XGDT  {'base_score': 0.5, 'booster': 'gbtree', 'cols...   \n",
       "6                   NN                                                 NA   \n",
       "\n",
       "   f1-score  \n",
       "0  0.665600  \n",
       "1  0.680062  \n",
       "2  0.731411  \n",
       "3  0.719755  \n",
       "4  0.735069  \n",
       "5  0.741538  \n",
       "6  0.745677  "
      ]
     },
     "execution_count": 50,
     "metadata": {},
     "output_type": "execute_result"
    }
   ],
   "source": [
    "result=pd.DataFrame(summary,columns=['Model','Best Hyper parameters','f1-score'])\n",
    "result.to_csv('model_result.csv',index=False)\n",
    "result"
   ]
  },
  {
   "cell_type": "markdown",
   "metadata": {},
   "source": [
    "## saving all the best  models"
   ]
  },
  {
   "cell_type": "code",
   "execution_count": 51,
   "metadata": {},
   "outputs": [],
   "source": [
    "import pickle\n",
    "import os\n",
    "if not os.path.exists('models'):\n",
    "    os.makedirs('models')\n",
    "\n",
    "pickle.dump(best_lr,open('models/best_lr.pkl','wb'))\n",
    "pickle.dump(best_sgd,open('models/best_sgd.pkl','wb'))\n",
    "pickle.dump(best_knn,open('models/best_knn.pkl','wb'))\n",
    "pickle.dump(best_dt,open('models/best_dt.pkl','wb'))\n",
    "pickle.dump(best_rf,open('models/best_rf.pkl','wb'))\n",
    "pickle.dump(best_gb,open('models/best_gb.pkl','wb'))\n",
    "model_1.save('models/NN.h5')\n",
    "\n",
    "\n"
   ]
  },
  {
   "cell_type": "code",
   "execution_count": 52,
   "metadata": {},
   "outputs": [],
   "source": [
    "import pickle\n",
    "from keras.models import load_model\n",
    "# load the model from disk\n",
    "best_lr = pickle.load(open('models/best_lr.pkl', 'rb'))\n",
    "best_sgd = pickle.load(open('models/best_sgd.pkl', 'rb'))\n",
    "best_knn = pickle.load(open('models/best_knn.pkl', 'rb'))\n",
    "best_dt = pickle.load(open('models/best_dt.pkl', 'rb'))\n",
    "best_rf = pickle.load(open('models/best_rf.pkl', 'rb'))\n",
    "best_gb = pickle.load(open('models/best_gb.pkl', 'rb'))\n",
    "dependencies = {\n",
    "    'f1_m': f1_m\n",
    "}\n",
    "\n",
    "model_1 =load_model('models/NN.h5',custom_objects=dependencies)\n"
   ]
  },
  {
   "cell_type": "markdown",
   "metadata": {},
   "source": [
    "## Experiment with Stacking classifiers"
   ]
  },
  {
   "cell_type": "code",
   "execution_count": 53,
   "metadata": {
    "scrolled": false
   },
   "outputs": [],
   "source": [
    "from sklearn import model_selection\n",
    "from mlxtend.classifier import StackingCVClassifier\n",
    "\n",
    "lr = LogisticRegression()\n",
    "\n",
    "\n",
    "sclf = StackingCVClassifier(classifiers=[best_lr,best_knn,best_dt,best_rf,best_gb],\n",
    "                            use_probas=True,\n",
    "                            meta_classifier=lr,\n",
    "                            random_state=42)\n",
    "# fit to training Data\n",
    "sclf.fit(X_train,y_train)\n",
    "\n",
    "\n",
    "# predict the output\n",
    "y_pred=sclf.predict(X_val)\n",
    "\n",
    "#evaluate f1 score \n",
    "f1=f1_score(y_val,y_pred,average='binary')\n",
    "\n",
    "#add into list to view in table \n",
    "summary.append(['stacker','NA',f1])"
   ]
  },
  {
   "cell_type": "code",
   "execution_count": 54,
   "metadata": {},
   "outputs": [
    {
     "data": {
      "text/html": [
       "<div>\n",
       "<style scoped>\n",
       "    .dataframe tbody tr th:only-of-type {\n",
       "        vertical-align: middle;\n",
       "    }\n",
       "\n",
       "    .dataframe tbody tr th {\n",
       "        vertical-align: top;\n",
       "    }\n",
       "\n",
       "    .dataframe thead th {\n",
       "        text-align: right;\n",
       "    }\n",
       "</style>\n",
       "<table border=\"1\" class=\"dataframe\">\n",
       "  <thead>\n",
       "    <tr style=\"text-align: right;\">\n",
       "      <th></th>\n",
       "      <th>Model</th>\n",
       "      <th>Best Hyper parameters</th>\n",
       "      <th>f1-score</th>\n",
       "    </tr>\n",
       "  </thead>\n",
       "  <tbody>\n",
       "    <tr>\n",
       "      <th>0</th>\n",
       "      <td>logistic Regression</td>\n",
       "      <td>{'C': 0.4, 'class_weight': 'balanced', 'dual':...</td>\n",
       "      <td>0.665600</td>\n",
       "    </tr>\n",
       "    <tr>\n",
       "      <th>1</th>\n",
       "      <td>SVM</td>\n",
       "      <td>{'alpha': 0.001, 'average': False, 'class_weig...</td>\n",
       "      <td>0.680062</td>\n",
       "    </tr>\n",
       "    <tr>\n",
       "      <th>2</th>\n",
       "      <td>knn</td>\n",
       "      <td>{'algorithm': 'ball_tree', 'leaf_size': 30, 'm...</td>\n",
       "      <td>0.731411</td>\n",
       "    </tr>\n",
       "    <tr>\n",
       "      <th>3</th>\n",
       "      <td>DT</td>\n",
       "      <td>{'ccp_alpha': 0.0, 'class_weight': None, 'crit...</td>\n",
       "      <td>0.719755</td>\n",
       "    </tr>\n",
       "    <tr>\n",
       "      <th>4</th>\n",
       "      <td>RF</td>\n",
       "      <td>{'bootstrap': True, 'ccp_alpha': 0.0, 'class_w...</td>\n",
       "      <td>0.735069</td>\n",
       "    </tr>\n",
       "    <tr>\n",
       "      <th>5</th>\n",
       "      <td>XGDT</td>\n",
       "      <td>{'base_score': 0.5, 'booster': 'gbtree', 'cols...</td>\n",
       "      <td>0.741538</td>\n",
       "    </tr>\n",
       "    <tr>\n",
       "      <th>6</th>\n",
       "      <td>NN</td>\n",
       "      <td>NA</td>\n",
       "      <td>0.745677</td>\n",
       "    </tr>\n",
       "    <tr>\n",
       "      <th>7</th>\n",
       "      <td>stacker</td>\n",
       "      <td>NA</td>\n",
       "      <td>0.749235</td>\n",
       "    </tr>\n",
       "  </tbody>\n",
       "</table>\n",
       "</div>"
      ],
      "text/plain": [
       "                 Model                              Best Hyper parameters  \\\n",
       "0  logistic Regression  {'C': 0.4, 'class_weight': 'balanced', 'dual':...   \n",
       "1                  SVM  {'alpha': 0.001, 'average': False, 'class_weig...   \n",
       "2                  knn  {'algorithm': 'ball_tree', 'leaf_size': 30, 'm...   \n",
       "3                   DT  {'ccp_alpha': 0.0, 'class_weight': None, 'crit...   \n",
       "4                   RF  {'bootstrap': True, 'ccp_alpha': 0.0, 'class_w...   \n",
       "5                 XGDT  {'base_score': 0.5, 'booster': 'gbtree', 'cols...   \n",
       "6                   NN                                                 NA   \n",
       "7              stacker                                                 NA   \n",
       "\n",
       "   f1-score  \n",
       "0  0.665600  \n",
       "1  0.680062  \n",
       "2  0.731411  \n",
       "3  0.719755  \n",
       "4  0.735069  \n",
       "5  0.741538  \n",
       "6  0.745677  \n",
       "7  0.749235  "
      ]
     },
     "execution_count": 54,
     "metadata": {},
     "output_type": "execute_result"
    }
   ],
   "source": [
    "result=pd.DataFrame(summary,columns=['Model','Best Hyper parameters','f1-score'])\n",
    "result.to_csv('model_result.csv',index=False)\n",
    "result"
   ]
  },
  {
   "cell_type": "markdown",
   "metadata": {},
   "source": [
    "## predict with the best model\n"
   ]
  },
  {
   "cell_type": "code",
   "execution_count": 55,
   "metadata": {},
   "outputs": [
    {
     "data": {
      "text/html": [
       "<div>\n",
       "<style scoped>\n",
       "    .dataframe tbody tr th:only-of-type {\n",
       "        vertical-align: middle;\n",
       "    }\n",
       "\n",
       "    .dataframe tbody tr th {\n",
       "        vertical-align: top;\n",
       "    }\n",
       "\n",
       "    .dataframe thead th {\n",
       "        text-align: right;\n",
       "    }\n",
       "</style>\n",
       "<table border=\"1\" class=\"dataframe\">\n",
       "  <thead>\n",
       "    <tr style=\"text-align: right;\">\n",
       "      <th></th>\n",
       "      <th>ID</th>\n",
       "      <th>Won_Championship</th>\n",
       "    </tr>\n",
       "  </thead>\n",
       "  <tbody>\n",
       "    <tr>\n",
       "      <th>0</th>\n",
       "      <td>1</td>\n",
       "      <td>0</td>\n",
       "    </tr>\n",
       "    <tr>\n",
       "      <th>1</th>\n",
       "      <td>5</td>\n",
       "      <td>1</td>\n",
       "    </tr>\n",
       "    <tr>\n",
       "      <th>2</th>\n",
       "      <td>6</td>\n",
       "      <td>0</td>\n",
       "    </tr>\n",
       "    <tr>\n",
       "      <th>3</th>\n",
       "      <td>7</td>\n",
       "      <td>1</td>\n",
       "    </tr>\n",
       "    <tr>\n",
       "      <th>4</th>\n",
       "      <td>9</td>\n",
       "      <td>1</td>\n",
       "    </tr>\n",
       "    <tr>\n",
       "      <th>...</th>\n",
       "      <td>...</td>\n",
       "      <td>...</td>\n",
       "    </tr>\n",
       "    <tr>\n",
       "      <th>3495</th>\n",
       "      <td>9988</td>\n",
       "      <td>0</td>\n",
       "    </tr>\n",
       "    <tr>\n",
       "      <th>3496</th>\n",
       "      <td>9989</td>\n",
       "      <td>1</td>\n",
       "    </tr>\n",
       "    <tr>\n",
       "      <th>3497</th>\n",
       "      <td>9996</td>\n",
       "      <td>0</td>\n",
       "    </tr>\n",
       "    <tr>\n",
       "      <th>3498</th>\n",
       "      <td>9997</td>\n",
       "      <td>0</td>\n",
       "    </tr>\n",
       "    <tr>\n",
       "      <th>3499</th>\n",
       "      <td>10000</td>\n",
       "      <td>0</td>\n",
       "    </tr>\n",
       "  </tbody>\n",
       "</table>\n",
       "<p>3500 rows × 2 columns</p>\n",
       "</div>"
      ],
      "text/plain": [
       "         ID  Won_Championship\n",
       "0         1                 0\n",
       "1         5                 1\n",
       "2         6                 0\n",
       "3         7                 1\n",
       "4         9                 1\n",
       "...     ...               ...\n",
       "3495   9988                 0\n",
       "3496   9989                 1\n",
       "3497   9996                 0\n",
       "3498   9997                 0\n",
       "3499  10000                 0\n",
       "\n",
       "[3500 rows x 2 columns]"
      ]
     },
     "execution_count": 55,
     "metadata": {},
     "output_type": "execute_result"
    }
   ],
   "source": [
    "y_pred=sclf.predict(X_test)\n",
    "y_pred\n",
    "output=pd.DataFrame(test_raw['ID'],columns=['ID'])\n",
    "output['Won_Championship']=y_pred\n",
    "output.to_csv('Result.csv',index=False)\n",
    "output"
   ]
  },
  {
   "cell_type": "code",
   "execution_count": null,
   "metadata": {},
   "outputs": [],
   "source": []
  }
 ],
 "metadata": {
  "kernelspec": {
   "display_name": "Python 3",
   "language": "python",
   "name": "python3"
  },
  "language_info": {
   "codemirror_mode": {
    "name": "ipython",
    "version": 3
   },
   "file_extension": ".py",
   "mimetype": "text/x-python",
   "name": "python",
   "nbconvert_exporter": "python",
   "pygments_lexer": "ipython3",
   "version": "3.7.0"
  }
 },
 "nbformat": 4,
 "nbformat_minor": 4
}
